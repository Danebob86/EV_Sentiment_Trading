{
 "cells": [
  {
   "cell_type": "markdown",
   "id": "0d2ea117",
   "metadata": {},
   "source": [
    "# Twitter Sentiment Analysis"
   ]
  },
  {
   "cell_type": "markdown",
   "id": "32ff5fce",
   "metadata": {},
   "source": [
    "### 1. Import Libraries"
   ]
  },
  {
   "cell_type": "markdown",
   "id": "3673beed",
   "metadata": {},
   "source": [
    "Import all the libraries to be used in this notebook. We load the initial libraries at the beginning and keep on adding more libraries as we go along on the project"
   ]
  },
  {
   "cell_type": "code",
   "execution_count": 802,
   "id": "bc5146fe",
   "metadata": {},
   "outputs": [],
   "source": [
    "# Import Libraries\n",
    "\n",
    "import tweepy # for tweet mining\n",
    "from textblob import TextBlob # TextBlob - Python library for processing textual data\n",
    "from wordcloud import WordCloud # WordCloud - Python library for creating image wordclouds\n",
    "from nltk.sentiment.vader import SentimentIntensityAnalyzer #  lexicon and rule-based sentiment analysis tool\n",
    "import pandas as pd # for data manipulation and analysis\n",
    "import numpy as np # for working with arrays and carrying out mathematical operations.\n",
    "import re # In-built regular expressions library\n",
    "import os # to access environment from the operating system \n",
    "import string # Inbuilt string library\n",
    "import glob # to retrieve files/pathnames matching a specified pattern. \n",
    "import matplotlib.pyplot as plt  # for plotting\n",
    "plt.style.use('fivethirtyeight')\n",
    "%matplotlib inline"
   ]
  },
  {
   "cell_type": "code",
   "execution_count": 803,
   "id": "580e523a",
   "metadata": {},
   "outputs": [],
   "source": [
    "from dotenv import load_dotenv  # loading the  environment \n"
   ]
  },
  {
   "cell_type": "code",
   "execution_count": 804,
   "id": "d74a186c",
   "metadata": {},
   "outputs": [
    {
     "data": {
      "text/plain": [
       "True"
      ]
     },
     "execution_count": 804,
     "metadata": {},
     "output_type": "execute_result"
    }
   ],
   "source": [
    "# Loading Environment from the operating system\n",
    "load_dotenv()"
   ]
  },
  {
   "cell_type": "code",
   "execution_count": 805,
   "id": "5b9d4922",
   "metadata": {},
   "outputs": [],
   "source": [
    "# Natural Language Processing Toolkit\n",
    "import nltk\n",
    "import spacy\n",
    "# Tokenize - large quantity of text is divided into smaller parts \n",
    "from nltk.tokenize import sent_tokenize, word_tokenize \n",
    "from nltk import pos_tag # For Parts of Speech tagging\n",
    "from collections import Counter # count the key-value pairs\n",
    "from spacy import displacy # dependency visualizer that show model's predictions\n",
    "nlp = spacy.load(\"en_core_web_sm\") # English pipeline optimization\n",
    "from sklearn.feature_extraction.text import CountVectorizer\n",
    "from sklearn.feature_extraction.text import TfidfVectorizer"
   ]
  },
  {
   "cell_type": "markdown",
   "id": "787bd11a",
   "metadata": {},
   "source": [
    "### 2. Tweets Mining"
   ]
  },
  {
   "cell_type": "markdown",
   "id": "55f3a14e",
   "metadata": {},
   "source": [
    "We are using the Tweepy library for Python to scrape tweets. We created a developer account with Twitter to get the keys used below for this task."
   ]
  },
  {
   "cell_type": "code",
   "execution_count": 806,
   "id": "a2376f94",
   "metadata": {},
   "outputs": [],
   "source": [
    "# Get the API keys from env\n",
    "\n",
    "consumer_key = os.getenv(\"TWITTER_API_KEY\")\n",
    "consumer_secret_key = os.getenv(\"TWITTER_API_SECRET_KEY\")\n",
    "access_token = os.getenv(\"TWITTER_ACCESS_TOKEN\")\n",
    "access_token_secret = os.getenv(\"TWITTER_ACCESS_TOKEN_SECRET\")\n",
    "\n",
    "# Authentication\n",
    "auth = tweepy.OAuthHandler(consumer_key, consumer_secret_key)\n",
    "auth.set_access_token(access_token, access_token_secret)\n",
    "\n",
    "api = tweepy.API(auth)"
   ]
  },
  {
   "cell_type": "code",
   "execution_count": 807,
   "id": "80c418b9",
   "metadata": {},
   "outputs": [],
   "source": [
    "# checking the API keys validate or not"
   ]
  },
  {
   "cell_type": "code",
   "execution_count": 808,
   "id": "d36d4d63",
   "metadata": {},
   "outputs": [],
   "source": [
    "#type(consumer_key)"
   ]
  },
  {
   "cell_type": "code",
   "execution_count": 809,
   "id": "426a78bc",
   "metadata": {},
   "outputs": [],
   "source": [
    "#type(consumer_secret_key)"
   ]
  },
  {
   "cell_type": "code",
   "execution_count": 810,
   "id": "5bc6466c",
   "metadata": {},
   "outputs": [],
   "source": [
    "#type(access_token)"
   ]
  },
  {
   "cell_type": "code",
   "execution_count": 811,
   "id": "35a040b7",
   "metadata": {},
   "outputs": [],
   "source": [
    "#type(access_token_secret)"
   ]
  },
  {
   "cell_type": "markdown",
   "id": "f5389fa7",
   "metadata": {},
   "source": [
    "#### User-defined Functions for Tweets Mining"
   ]
  },
  {
   "cell_type": "markdown",
   "id": "c28d572f",
   "metadata": {},
   "source": [
    "We created a functions for searching with different phrases, Example \"EV Stock\", \"Best EV Stock\", \"EV Stock Future\", \"Top EV Maker\". We do  different searches and each result store in a csv file. This is because we can be consistant with the data as we work along. "
   ]
  },
  {
   "cell_type": "code",
   "execution_count": 812,
   "id": "c3aad5ea",
   "metadata": {},
   "outputs": [],
   "source": [
    "def write_df_to_csv(df, file_name):\n",
    "    df.to_csv(file_name, index=False)"
   ]
  },
  {
   "cell_type": "code",
   "execution_count": 813,
   "id": "93995fca",
   "metadata": {},
   "outputs": [],
   "source": [
    "def getTweets():\n",
    "    keyword = input(\"Please enter keyword or hashtag to search: \")\n",
    "    noOfTweet = int(input (\"Number of tweets to analyze: \"))\n",
    "    tweet_list = []\n",
    "    # Collect tweets using the Cursor object\n",
    "    tweets = tweepy.Cursor(api.search, \n",
    "                           q=keyword, \n",
    "                           keyword = keyword + \"  -filter:links AND -filter:retweets AND -filter:replies\", \n",
    "                          lang=\"en\",\n",
    "                          tweet_mode='extended' ).items(noOfTweet)\n",
    "     # Each item in the iterator has various attributes that you can access to get information about each tweet\n",
    "    for tweet in tweets:\n",
    "        tweet_list.append([\n",
    "            tweet.id,\n",
    "            tweet.created_at,\n",
    "            tweet.full_text,\n",
    "            tweet.user.location,\n",
    "            tweet.retweet_count,\n",
    "            tweet.favorite_count\n",
    "        ])\n",
    "    return tweet_list"
   ]
  },
  {
   "cell_type": "code",
   "execution_count": 814,
   "id": "11152008",
   "metadata": {},
   "outputs": [
    {
     "name": "stdout",
     "output_type": "stream",
     "text": [
      "Please enter keyword or hashtag to search: EV Best Stock\n",
      "Number of tweets to analyze: 500\n"
     ]
    }
   ],
   "source": [
    "tweet_list = getTweets()"
   ]
  },
  {
   "cell_type": "code",
   "execution_count": 815,
   "id": "31fcd243",
   "metadata": {
    "scrolled": false
   },
   "outputs": [
    {
     "data": {
      "text/html": [
       "<div>\n",
       "<style scoped>\n",
       "    .dataframe tbody tr th:only-of-type {\n",
       "        vertical-align: middle;\n",
       "    }\n",
       "\n",
       "    .dataframe tbody tr th {\n",
       "        vertical-align: top;\n",
       "    }\n",
       "\n",
       "    .dataframe thead th {\n",
       "        text-align: right;\n",
       "    }\n",
       "</style>\n",
       "<table border=\"1\" class=\"dataframe\">\n",
       "  <thead>\n",
       "    <tr style=\"text-align: right;\">\n",
       "      <th></th>\n",
       "      <th>Id</th>\n",
       "      <th>Date</th>\n",
       "      <th>Tweets</th>\n",
       "      <th>Location</th>\n",
       "      <th>Retweets</th>\n",
       "      <th>Favorite</th>\n",
       "    </tr>\n",
       "  </thead>\n",
       "  <tbody>\n",
       "    <tr>\n",
       "      <th>0</th>\n",
       "      <td>1421382839300415493</td>\n",
       "      <td>2021-07-31 08:10:51</td>\n",
       "      <td>@bopinion Wow Bloomberg,wow. How much $ Ford a...</td>\n",
       "      <td></td>\n",
       "      <td>0</td>\n",
       "      <td>0</td>\n",
       "    </tr>\n",
       "    <tr>\n",
       "      <th>1</th>\n",
       "      <td>1421236926569357312</td>\n",
       "      <td>2021-07-30 22:31:03</td>\n",
       "      <td>RT @ElectricAutonmy: “This assessment of the l...</td>\n",
       "      <td>Nanaimo, BC</td>\n",
       "      <td>1</td>\n",
       "      <td>0</td>\n",
       "    </tr>\n",
       "    <tr>\n",
       "      <th>2</th>\n",
       "      <td>1421183826143977473</td>\n",
       "      <td>2021-07-30 19:00:03</td>\n",
       "      <td>“This assessment of the life-cycle GHG emissio...</td>\n",
       "      <td>Canada</td>\n",
       "      <td>1</td>\n",
       "      <td>3</td>\n",
       "    </tr>\n",
       "    <tr>\n",
       "      <th>3</th>\n",
       "      <td>1421156134036066690</td>\n",
       "      <td>2021-07-30 17:10:00</td>\n",
       "      <td>@ev_spacs Easy, Tough Guy! I am on record sayi...</td>\n",
       "      <td></td>\n",
       "      <td>0</td>\n",
       "      <td>1</td>\n",
       "    </tr>\n",
       "    <tr>\n",
       "      <th>4</th>\n",
       "      <td>1421147852328210440</td>\n",
       "      <td>2021-07-30 16:37:06</td>\n",
       "      <td>Top 5 Electric Vehicle EV Stocks in 2021 | Bes...</td>\n",
       "      <td>Surat, India</td>\n",
       "      <td>0</td>\n",
       "      <td>0</td>\n",
       "    </tr>\n",
       "  </tbody>\n",
       "</table>\n",
       "</div>"
      ],
      "text/plain": [
       "                    Id                Date  \\\n",
       "0  1421382839300415493 2021-07-31 08:10:51   \n",
       "1  1421236926569357312 2021-07-30 22:31:03   \n",
       "2  1421183826143977473 2021-07-30 19:00:03   \n",
       "3  1421156134036066690 2021-07-30 17:10:00   \n",
       "4  1421147852328210440 2021-07-30 16:37:06   \n",
       "\n",
       "                                              Tweets      Location  Retweets  \\\n",
       "0  @bopinion Wow Bloomberg,wow. How much $ Ford a...                       0   \n",
       "1  RT @ElectricAutonmy: “This assessment of the l...   Nanaimo, BC         1   \n",
       "2  “This assessment of the life-cycle GHG emissio...        Canada         1   \n",
       "3  @ev_spacs Easy, Tough Guy! I am on record sayi...                       0   \n",
       "4  Top 5 Electric Vehicle EV Stocks in 2021 | Bes...  Surat, India         0   \n",
       "\n",
       "   Favorite  \n",
       "0         0  \n",
       "1         0  \n",
       "2         3  \n",
       "3         1  \n",
       "4         0  "
      ]
     },
     "execution_count": 815,
     "metadata": {},
     "output_type": "execute_result"
    }
   ],
   "source": [
    "tweet_list_df = pd.DataFrame(tweet_list,columns=[\"Id\",\"Date\", \"Tweets\",\"Location\",\"Retweets\",\"Favorite\"])\n",
    "tweet_list_df.head()"
   ]
  },
  {
   "cell_type": "code",
   "execution_count": 816,
   "id": "8bfb2b78",
   "metadata": {},
   "outputs": [
    {
     "data": {
      "text/plain": [
       "(55, 6)"
      ]
     },
     "execution_count": 816,
     "metadata": {},
     "output_type": "execute_result"
    }
   ],
   "source": [
    "tweet_list_df.shape"
   ]
  },
  {
   "cell_type": "code",
   "execution_count": 817,
   "id": "6e6c7994",
   "metadata": {},
   "outputs": [],
   "source": [
    "### USE DIFFERENT FILE NAME TO SAVE EACH SEARCH. OR else it will replace the previous data\n",
    "write_df_to_csv(tweet_list_df,\"EV_best_2_tweet.csv\")"
   ]
  },
  {
   "cell_type": "code",
   "execution_count": 705,
   "id": "360d6d38",
   "metadata": {},
   "outputs": [],
   "source": [
    "## read_csv with new search data to check. We do not need these lines .. \n",
    "## it is just to check if how may tweets we are getting. "
   ]
  },
  {
   "cell_type": "code",
   "execution_count": 634,
   "id": "39ea9e50",
   "metadata": {},
   "outputs": [],
   "source": [
    "mnf_tweet = pd.read_csv(\"EV_Manufacturer_tweet.csv\")"
   ]
  },
  {
   "cell_type": "code",
   "execution_count": 19,
   "id": "b5ae6ad7",
   "metadata": {},
   "outputs": [],
   "source": [
    "stock_tweet = pd.read_csv(\"EV_Stock_tweet.csv\")"
   ]
  },
  {
   "cell_type": "code",
   "execution_count": 20,
   "id": "0060ea42",
   "metadata": {},
   "outputs": [],
   "source": [
    "best_tweet = pd.read_csv(\"Best_EV_Stock_tweet.csv\")"
   ]
  },
  {
   "cell_type": "code",
   "execution_count": 21,
   "id": "0a7d0202",
   "metadata": {},
   "outputs": [],
   "source": [
    "future_tweet = pd.read_csv(\"Future_EV_Stock_tweet.csv\")"
   ]
  },
  {
   "cell_type": "code",
   "execution_count": 22,
   "id": "7c1f3a63",
   "metadata": {},
   "outputs": [],
   "source": [
    "top_tweet =  pd.read_csv(\"Top_EV_Maker_tweet.csv\")"
   ]
  },
  {
   "cell_type": "code",
   "execution_count": 23,
   "id": "1dcc35ab",
   "metadata": {},
   "outputs": [],
   "source": [
    "company_tweet =  pd.read_csv(\"EV_Company_tweet.csv\")"
   ]
  },
  {
   "cell_type": "code",
   "execution_count": 24,
   "id": "1fa3985b",
   "metadata": {},
   "outputs": [],
   "source": [
    "#stock_tweet.shape"
   ]
  },
  {
   "cell_type": "code",
   "execution_count": 25,
   "id": "1d719112",
   "metadata": {},
   "outputs": [],
   "source": [
    "#pwd"
   ]
  },
  {
   "cell_type": "markdown",
   "id": "77b9541d",
   "metadata": {},
   "source": [
    "#### Combining all Tweets into single Pandas Dataframe"
   ]
  },
  {
   "cell_type": "code",
   "execution_count": 818,
   "id": "d64b034a",
   "metadata": {},
   "outputs": [],
   "source": [
    "path = \"/Users/syedahasan/Desktop/EV_Sentiment_Trading\"\n",
    "all_files = glob.glob(path + \"/*.csv\")\n",
    "#all_files"
   ]
  },
  {
   "cell_type": "code",
   "execution_count": 819,
   "id": "e033a2d1",
   "metadata": {},
   "outputs": [
    {
     "data": {
      "text/html": [
       "<div>\n",
       "<style scoped>\n",
       "    .dataframe tbody tr th:only-of-type {\n",
       "        vertical-align: middle;\n",
       "    }\n",
       "\n",
       "    .dataframe tbody tr th {\n",
       "        vertical-align: top;\n",
       "    }\n",
       "\n",
       "    .dataframe thead th {\n",
       "        text-align: right;\n",
       "    }\n",
       "</style>\n",
       "<table border=\"1\" class=\"dataframe\">\n",
       "  <thead>\n",
       "    <tr style=\"text-align: right;\">\n",
       "      <th></th>\n",
       "      <th>Id</th>\n",
       "      <th>Date</th>\n",
       "      <th>Tweets</th>\n",
       "      <th>Location</th>\n",
       "      <th>Retweets</th>\n",
       "      <th>Favorite</th>\n",
       "    </tr>\n",
       "  </thead>\n",
       "  <tbody>\n",
       "    <tr>\n",
       "      <th>0</th>\n",
       "      <td>1420544025631760384</td>\n",
       "      <td>2021-07-29 00:37:42</td>\n",
       "      <td>@ev_truths @alex_avoigt I think EV technology ...</td>\n",
       "      <td>Seattle, WA</td>\n",
       "      <td>0</td>\n",
       "      <td>0</td>\n",
       "    </tr>\n",
       "    <tr>\n",
       "      <th>1</th>\n",
       "      <td>1420519469865177088</td>\n",
       "      <td>2021-07-28 23:00:08</td>\n",
       "      <td>Compact International(1994) Wants to be Top EV...</td>\n",
       "      <td>U.S.A</td>\n",
       "      <td>0</td>\n",
       "      <td>0</td>\n",
       "    </tr>\n",
       "    <tr>\n",
       "      <th>2</th>\n",
       "      <td>1419726996104486919</td>\n",
       "      <td>2021-07-26 18:31:07</td>\n",
       "      <td>RT @cliffski: Toyota are not much better than ...</td>\n",
       "      <td>Louisville, KY</td>\n",
       "      <td>2</td>\n",
       "      <td>0</td>\n",
       "    </tr>\n",
       "    <tr>\n",
       "      <th>3</th>\n",
       "      <td>1419703662092472320</td>\n",
       "      <td>2021-07-26 16:58:24</td>\n",
       "      <td>Toyota are not much better than volkswagen. Th...</td>\n",
       "      <td>None of your business</td>\n",
       "      <td>2</td>\n",
       "      <td>4</td>\n",
       "    </tr>\n",
       "    <tr>\n",
       "      <th>4</th>\n",
       "      <td>1419665554038681606</td>\n",
       "      <td>2021-07-26 14:26:58</td>\n",
       "      <td>GM China’s Venture Has Big Ambitions Beyond $4...</td>\n",
       "      <td>Vancouver and London</td>\n",
       "      <td>0</td>\n",
       "      <td>0</td>\n",
       "    </tr>\n",
       "  </tbody>\n",
       "</table>\n",
       "</div>"
      ],
      "text/plain": [
       "                    Id                Date  \\\n",
       "0  1420544025631760384 2021-07-29 00:37:42   \n",
       "1  1420519469865177088 2021-07-28 23:00:08   \n",
       "2  1419726996104486919 2021-07-26 18:31:07   \n",
       "3  1419703662092472320 2021-07-26 16:58:24   \n",
       "4  1419665554038681606 2021-07-26 14:26:58   \n",
       "\n",
       "                                              Tweets               Location  \\\n",
       "0  @ev_truths @alex_avoigt I think EV technology ...            Seattle, WA   \n",
       "1  Compact International(1994) Wants to be Top EV...                  U.S.A   \n",
       "2  RT @cliffski: Toyota are not much better than ...         Louisville, KY   \n",
       "3  Toyota are not much better than volkswagen. Th...  None of your business   \n",
       "4  GM China’s Venture Has Big Ambitions Beyond $4...   Vancouver and London   \n",
       "\n",
       "   Retweets  Favorite  \n",
       "0         0         0  \n",
       "1         0         0  \n",
       "2         2         0  \n",
       "3         2         4  \n",
       "4         0         0  "
      ]
     },
     "execution_count": 819,
     "metadata": {},
     "output_type": "execute_result"
    }
   ],
   "source": [
    "tweets = []\n",
    "\n",
    "for filename in all_files:\n",
    "    df = pd.read_csv(filename,  index_col=None, parse_dates=True,  header=0) # Convert each csv to a dataframe\n",
    "    tweets.append(df)\n",
    "\n",
    "tweets_df = pd.concat(tweets, axis=0, ignore_index=True) # Merge all dataframes\n",
    "tweets_df['Date']= pd.to_datetime(tweets_df['Date'])\n",
    "tweets_df.head()"
   ]
  },
  {
   "cell_type": "code",
   "execution_count": 820,
   "id": "5077dd88",
   "metadata": {},
   "outputs": [
    {
     "data": {
      "text/plain": [
       "Id                   int64\n",
       "Date        datetime64[ns]\n",
       "Tweets              object\n",
       "Location            object\n",
       "Retweets             int64\n",
       "Favorite             int64\n",
       "dtype: object"
      ]
     },
     "execution_count": 820,
     "metadata": {},
     "output_type": "execute_result"
    }
   ],
   "source": [
    "tweets_df.dtypes"
   ]
  },
  {
   "cell_type": "markdown",
   "id": "7920a65c",
   "metadata": {},
   "source": [
    "### 3. Data Cleaning"
   ]
  },
  {
   "cell_type": "markdown",
   "id": "eda5a9e7",
   "metadata": {},
   "source": [
    "The dataframe that is created on above, will be cleaned in this section. We are going to search for any duplication and will remove it. It is also important to mention that the Tweet ID was considered as the Primary key for all the dataframe. We are also going to replace the \"NaN\" values in Location column."
   ]
  },
  {
   "cell_type": "code",
   "execution_count": 821,
   "id": "6f746f0e",
   "metadata": {},
   "outputs": [
    {
     "data": {
      "text/plain": [
       "(12676, 6)"
      ]
     },
     "execution_count": 821,
     "metadata": {},
     "output_type": "execute_result"
    }
   ],
   "source": [
    "#Get number of rows and columns\n",
    "tweets_df.shape "
   ]
  },
  {
   "cell_type": "code",
   "execution_count": 870,
   "id": "4f744a5b",
   "metadata": {
    "scrolled": true
   },
   "outputs": [
    {
     "data": {
      "text/plain": [
       "0"
      ]
     },
     "execution_count": 870,
     "metadata": {},
     "output_type": "execute_result"
    }
   ],
   "source": [
    "tweets_df.duplicated(subset='Tweets').sum() # Check for duplicate values"
   ]
  },
  {
   "cell_type": "code",
   "execution_count": 868,
   "id": "6de7be3e",
   "metadata": {},
   "outputs": [],
   "source": [
    "# drop duplicate values\n",
    "tweets_df=tweets_df.drop_duplicates(subset='Tweets',keep=\"last\") "
   ]
  },
  {
   "cell_type": "code",
   "execution_count": 869,
   "id": "101cf34f",
   "metadata": {},
   "outputs": [
    {
     "data": {
      "text/plain": [
       "(7890, 10)"
      ]
     },
     "execution_count": 869,
     "metadata": {},
     "output_type": "execute_result"
    }
   ],
   "source": [
    "# Check the shape after dropping duplicates\n",
    "tweets_df.shape "
   ]
  },
  {
   "cell_type": "code",
   "execution_count": 871,
   "id": "d5caad3a",
   "metadata": {},
   "outputs": [
    {
     "data": {
      "text/plain": [
       "Id                   False\n",
       "Date                 False\n",
       "Tweets               False\n",
       "Location             False\n",
       "Retweets             False\n",
       "Favorite             False\n",
       "Processed_Tweets     False\n",
       "Tweets_Nouns         False\n",
       "Tweets_Adjectives    False\n",
       "Tweets_Sentiments    False\n",
       "dtype: bool"
      ]
     },
     "execution_count": 871,
     "metadata": {},
     "output_type": "execute_result"
    }
   ],
   "source": [
    "# Check for \"NaN\" values\n",
    "tweets_df.isna().any() "
   ]
  },
  {
   "cell_type": "code",
   "execution_count": 826,
   "id": "2cae8828",
   "metadata": {},
   "outputs": [],
   "source": [
    "# Replace \"NaN\" values with \"No Location\"\n",
    "tweets_df['Location']=tweets_df['Location'].fillna('No location') "
   ]
  },
  {
   "cell_type": "code",
   "execution_count": 827,
   "id": "7b2d9b40",
   "metadata": {},
   "outputs": [
    {
     "data": {
      "text/plain": [
       "Id          False\n",
       "Date        False\n",
       "Tweets      False\n",
       "Location    False\n",
       "Retweets    False\n",
       "Favorite    False\n",
       "dtype: bool"
      ]
     },
     "execution_count": 827,
     "metadata": {},
     "output_type": "execute_result"
    }
   ],
   "source": [
    "# Check for \"NaN\" values again\n",
    "tweets_df.isna().any() "
   ]
  },
  {
   "cell_type": "markdown",
   "id": "5fcd4f1f",
   "metadata": {},
   "source": [
    "### 4. Processing"
   ]
  },
  {
   "cell_type": "markdown",
   "id": "612ab3e0",
   "metadata": {},
   "source": [
    "The Individual Tweer needed to be cleaned. We are using several functions to clean the tweet and to show the words used. We are extracting only the adjectives to a new column to view the weight."
   ]
  },
  {
   "cell_type": "code",
   "execution_count": 828,
   "id": "c608221c",
   "metadata": {},
   "outputs": [],
   "source": [
    "# NLTK list of stopwords\n",
    "from nltk.corpus import stopwords"
   ]
  },
  {
   "cell_type": "code",
   "execution_count": 829,
   "id": "457fd3e6",
   "metadata": {},
   "outputs": [],
   "source": [
    "# Lemmatization is a technique that transforms various morphologies of a word into its base form. \n",
    "from nltk.stem import WordNetLemmatizer \n",
    "# Instantiate the lemmatizer\n",
    "lemmatizer = WordNetLemmatizer()"
   ]
  },
  {
   "cell_type": "code",
   "execution_count": 830,
   "id": "e6504d50",
   "metadata": {},
   "outputs": [],
   "source": [
    "def clean_tweet(text):\n",
    "    text = text.lower()  #has to be in place\n",
    "    text = re.sub(r'@[A-Za-z0-9]+', '', text) # Remove @mentions\n",
    "    text = re.sub(r'#', '', text)  # Remove # symbol\n",
    "    text = re.sub(r'$', '', text)  # Remove $ symbol\n",
    "    text = re.sub(r'RT[\\s]+','', text) # Remove RT\n",
    "    text = re.sub(r\"http\\S+|www\\S+|https\\S+\", '', text, flags=re.MULTILINE)  # Remove urls\n",
    "    text = re.sub(r'https?:\\/\\/\\S+', '', text) # Remove hyperlink\n",
    "    text = re.sub(r':','', text)\n",
    "    sw = set(stopwords.words('english'))\n",
    "    sw_addons = {'do', 'of', '$','r', '*,*','-',', ','``','\\'s','.','-','public','rt',\n",
    "                 'company', 'instead','&','’', 'in', 'car','they','\\'your', 'what', 'also', 'seeing','agreement',\n",
    "                 'time','today','ktown','pc','wts','105k','55k','ed','seeing','takeover','brokerages','rap','meet',\n",
    "                 'maker','launch','vehicle','market','year','news','technology','price','auto','med','lpo','make',\n",
    "                 'bakersfieldcart','takeaway','late','catching','lates','board','ranges'}\n",
    "    words = word_tokenize(text)\n",
    "    output = [x.lower() for x in words if x.lower() not in sw.union(sw_addons)]\n",
    "    # Remove punctuations\n",
    "    unpunctuated_words = [char for char in output if char not in string.punctuation]\n",
    "    unpunctuated_words = ' '.join(unpunctuated_words)\n",
    "\n",
    "    return \"\".join(unpunctuated_words)  # join words with a space in between them"
   ]
  },
  {
   "cell_type": "code",
   "execution_count": 831,
   "id": "ce73a7cb",
   "metadata": {},
   "outputs": [],
   "source": [
    "tweets_df['Processed_Tweets'] = tweets_df['Tweets'].apply(clean_tweet)"
   ]
  },
  {
   "cell_type": "code",
   "execution_count": 832,
   "id": "acd5f678",
   "metadata": {},
   "outputs": [],
   "source": [
    "# Helper functions\n",
    "def all_noun(tweet):\n",
    "    \"\"\"\n",
    "    This function retrieves all the nouns on the given text.\n",
    "    \n",
    "    Args:\n",
    "        text (string): The text to analyze.\n",
    "        \n",
    "    Returns:\n",
    "        nouns (list): A list with all the nouns in the text.\n",
    "    \"\"\"\n",
    "   \n",
    "    tweet = word_tokenize(tweet)  # convert string to tokens\n",
    "    tweet = [word for (word, tag) in pos_tag(tweet)\n",
    "             if tag == \"NN\"]  # pos_tag module in NLTK library\n",
    "    return \" \".join(tweet)  # join words with a space in between them"
   ]
  },
  {
   "cell_type": "code",
   "execution_count": 833,
   "id": "c7f89cf5",
   "metadata": {},
   "outputs": [],
   "source": [
    "# Helper functions\n",
    "def all_adjectives(tweet):\n",
    "    \"\"\"\n",
    "    This function retrieves all the adjectives on the given text.\n",
    "    \n",
    "    Args:\n",
    "        text (string): The text to analyze.\n",
    "        \n",
    "    Returns:\n",
    "        adjs (list): A list with all the adjectives in the text.\n",
    "    \"\"\"\n",
    "   \n",
    "    tweet = word_tokenize(tweet)  # convert string to tokens\n",
    "    tweet = [word for (word, tag) in pos_tag(tweet)\n",
    "             if tag == \"JJ\"]  # pos_tag module in NLTK library\n",
    "    return \" \".join(tweet)  # join words with a space in between them"
   ]
  },
  {
   "cell_type": "code",
   "execution_count": 834,
   "id": "5dfc968e",
   "metadata": {},
   "outputs": [],
   "source": [
    "# Apply all_noun function to the new 'Processed Tweets' column to generate a new column called 'Tweets_Nouns'\n",
    "tweets_df['Tweets_Nouns'] = tweets_df['Processed_Tweets'].apply(all_noun)"
   ]
  },
  {
   "cell_type": "code",
   "execution_count": 835,
   "id": "fc7184a5",
   "metadata": {},
   "outputs": [],
   "source": [
    "tweets_df['Tweets_Adjectives'] = tweets_df['Processed_Tweets'].apply(all_adjectives)"
   ]
  },
  {
   "cell_type": "code",
   "execution_count": 836,
   "id": "faa04a84",
   "metadata": {},
   "outputs": [],
   "source": [
    "def get_word_counts(t, w):\n",
    "    \"\"\"\n",
    "    This function counts the occurrences of a word in a text.\n",
    "    \n",
    "    Args:\n",
    "        text (string): The text where word counts will be analyzed.\n",
    "        word (string): The word to look into the text.\n",
    "        \n",
    "    Returns:\n",
    "        word_count (int): The counts of the word in the given text.\n",
    "    \"\"\"\n",
    "    \n",
    "    # Use the word_tokenize module from NLTK to tokenize the text\n",
    "    tok = word_tokenize(t)\n",
    "    \n",
    "    # Create a list with all the tokens retrieved from the text\n",
    "    tok = [w.lower() for w in tok]\n",
    "    \n",
    "    # Count the occurrences of the word in the text\n",
    "    word_count = tok.count(w)\n",
    "    \n",
    "    return word_count"
   ]
  },
  {
   "cell_type": "code",
   "execution_count": 837,
   "id": "a3926252",
   "metadata": {},
   "outputs": [],
   "source": [
    "# function to return words to their base form using Lemmatizer\n",
    "# ref: https://jess-analytics.medium.com/\n",
    "def preprocessTweetsSentiments(tweet):\n",
    "    \n",
    "    tweet_tokens = word_tokenize(tweet)\n",
    "    lemmatizer = WordNetLemmatizer() # instatiate an object WordNetLemmatizer Class\n",
    "    lemma_words = [lemmatizer.lemmatize(w) for w in tweet_tokens]\n",
    "    return \" \".join(lemma_words)"
   ]
  },
  {
   "cell_type": "code",
   "execution_count": 838,
   "id": "6bd9e6d4",
   "metadata": {},
   "outputs": [],
   "source": [
    "# Apply preprocessTweetsSentiments function to the 'Processed Tweets' column to generate a new column\n",
    "tweets_df['Tweets_Sentiments'] = tweets_df['Processed_Tweets'].apply(preprocessTweetsSentiments)"
   ]
  },
  {
   "cell_type": "code",
   "execution_count": 839,
   "id": "3f25c2db",
   "metadata": {},
   "outputs": [],
   "source": [
    "# Extract all tweets into one long string with each word separate with a \"space\"\n",
    "tweets_long_string = tweets_df['Tweets_Nouns'].tolist()\n",
    "tweets_long_string = \" \".join(tweets_long_string)"
   ]
  },
  {
   "cell_type": "code",
   "execution_count": 840,
   "id": "4be565a9",
   "metadata": {},
   "outputs": [
    {
     "data": {
      "image/png": "[encoded data removed]",
      "text/plain": [
       "<Figure size 1008x1296 with 1 Axes>"
      ]
     },
     "metadata": {
      "needs_background": "light"
     },
     "output_type": "display_data"
    }
   ],
   "source": [
    "from PIL import Image # for opening, manipulating, and saving many different image file \n",
    "# Import Twitter Logo\n",
    "image = np.array(Image.open('twitter.png'))\n",
    "    \n",
    "fig = plt.figure() # Instantiate the figure object\n",
    "fig.set_figwidth(14) # set width\n",
    "fig.set_figheight(18) # set height\n",
    "\n",
    "plt.imshow(image, cmap=plt.cm.gray, interpolation='bilinear') # Display data as an image\n",
    "plt.axis('off') # Remove axis\n",
    "plt.show() # Display image"
   ]
  },
  {
   "cell_type": "code",
   "execution_count": 841,
   "id": "9d5dc234",
   "metadata": {},
   "outputs": [],
   "source": [
    "# Create function to generate the blue colour for the Word CLoud\n",
    "\n",
    "def blue_color_func(word, font_size, position, orientation, random_state=None,**kwargs):\n",
    "    return \"hsl(210, 100%%, %d%%)\" % random.randint(50, 70)"
   ]
  },
  {
   "cell_type": "code",
   "execution_count": 842,
   "id": "2350c315",
   "metadata": {},
   "outputs": [
    {
     "data": {
      "image/png": "[encoded data removed]",
      "text/plain": [
       "<Figure size 1008x1296 with 1 Axes>"
      ]
     },
     "metadata": {
      "needs_background": "light"
     },
     "output_type": "display_data"
    }
   ],
   "source": [
    "import random # generating random numbers\n",
    "# Instantiate the Twitter word cloud object\n",
    "# ref: https://amueller.github.io/word_cloud/auto_examples/masked.html\n",
    "twitter_wc = WordCloud(background_color='white', max_words=1500, mask=image)\n",
    "\n",
    "# generate the word cloud\n",
    "twitter_wc.generate(tweets_long_string)\n",
    "\n",
    "# display the word cloud\n",
    "fig = plt.figure()\n",
    "fig.set_figwidth(14)  # set width\n",
    "fig.set_figheight(18)  # set height\n",
    "\n",
    "plt.imshow(twitter_wc.recolor(color_func=blue_color_func, random_state=3),\n",
    "           interpolation=\"bilinear\")\n",
    "plt.axis('off')\n",
    "plt.show()"
   ]
  },
  {
   "cell_type": "code",
   "execution_count": 843,
   "id": "621ca3e3",
   "metadata": {},
   "outputs": [],
   "source": [
    "# Combine all words into a list\n",
    "tweets_long_string = tweets_df['Tweets_Nouns'].tolist()\n",
    "tweets_list=[]\n",
    "for item in tweets_long_string:\n",
    "    item = item.split()\n",
    "    for i in item:\n",
    "        tweets_list.append(i)"
   ]
  },
  {
   "cell_type": "code",
   "execution_count": 844,
   "id": "e7e04e8b",
   "metadata": {},
   "outputs": [
    {
     "data": {
      "text/html": [
       "<div>\n",
       "<style scoped>\n",
       "    .dataframe tbody tr th:only-of-type {\n",
       "        vertical-align: middle;\n",
       "    }\n",
       "\n",
       "    .dataframe tbody tr th {\n",
       "        vertical-align: top;\n",
       "    }\n",
       "\n",
       "    .dataframe thead th {\n",
       "        text-align: right;\n",
       "    }\n",
       "</style>\n",
       "<table border=\"1\" class=\"dataframe\">\n",
       "  <thead>\n",
       "    <tr style=\"text-align: right;\">\n",
       "      <th></th>\n",
       "      <th>Words</th>\n",
       "      <th>Count</th>\n",
       "    </tr>\n",
       "  </thead>\n",
       "  <tbody>\n",
       "    <tr>\n",
       "      <th>0</th>\n",
       "      <td>ev</td>\n",
       "      <td>2186</td>\n",
       "    </tr>\n",
       "    <tr>\n",
       "      <th>15</th>\n",
       "      <td>stock</td>\n",
       "      <td>949</td>\n",
       "    </tr>\n",
       "    <tr>\n",
       "      <th>14</th>\n",
       "      <td>tesla</td>\n",
       "      <td>636</td>\n",
       "    </tr>\n",
       "    <tr>\n",
       "      <th>837</th>\n",
       "      <td>nio</td>\n",
       "      <td>450</td>\n",
       "    </tr>\n",
       "    <tr>\n",
       "      <th>35</th>\n",
       "      <td>battery</td>\n",
       "      <td>441</td>\n",
       "    </tr>\n",
       "  </tbody>\n",
       "</table>\n",
       "</div>"
      ],
      "text/plain": [
       "       Words  Count\n",
       "0         ev   2186\n",
       "15     stock    949\n",
       "14     tesla    636\n",
       "837      nio    450\n",
       "35   battery    441"
      ]
     },
     "execution_count": 844,
     "metadata": {},
     "output_type": "execute_result"
    }
   ],
   "source": [
    "# Use the Built-in Python Collections module to determine Word frequency\n",
    "counts = Counter(tweets_list)\n",
    "df = pd.DataFrame.from_dict(counts, orient='index').reset_index()\n",
    "df.columns = ['Words', 'Count']\n",
    "df.sort_values(by='Count', ascending=False, inplace=True)\n",
    "df.head(5)"
   ]
  },
  {
   "cell_type": "markdown",
   "id": "f1433489",
   "metadata": {},
   "source": [
    "### 5. Sentiment Analysis"
   ]
  },
  {
   "cell_type": "markdown",
   "id": "9ca3504e",
   "metadata": {},
   "source": [
    "In this section, the aim was to undertand the sentiment of the Twitter Users while describe Electric Vehicle. "
   ]
  },
  {
   "cell_type": "code",
   "execution_count": 845,
   "id": "434bb104",
   "metadata": {},
   "outputs": [
    {
     "name": "stderr",
     "output_type": "stream",
     "text": [
      "[nltk_data] Downloading package vader_lexicon to\n",
      "[nltk_data]     /Users/syedahasan/nltk_data...\n",
      "[nltk_data]   Package vader_lexicon is already up-to-date!\n"
     ]
    }
   ],
   "source": [
    "nltk.download('vader_lexicon')\n",
    "\n",
    "# Initialize the VADER sentiment analyzer\n",
    "analyzer = SentimentIntensityAnalyzer()"
   ]
  },
  {
   "cell_type": "code",
   "execution_count": 846,
   "id": "4ced7e03",
   "metadata": {},
   "outputs": [],
   "source": [
    "# Creating the CountVectorizer instance defining the stopwords in English to be ignored\n",
    "vectorizer = CountVectorizer(stop_words=\"english\")\n",
    "\n",
    "words = []\n",
    "# Getting the tokenization and occurrence counting\n",
    "X = vectorizer.fit_transform(tweets_df['Tweets_Sentiments'])\n",
    "# Retrieve unique words list\n",
    "words = vectorizer.get_feature_names()\n",
    "words.extend(words)\n",
    "#print(words)"
   ]
  },
  {
   "cell_type": "code",
   "execution_count": 847,
   "id": "b9d5e625",
   "metadata": {},
   "outputs": [],
   "source": [
    "# Getting the TF-IDF\n",
    "# A TfidfVectorizer() instance is created by passing the stopwords in English as a parameter.\n",
    "vectorizer = TfidfVectorizer(stop_words=\"english\")\n",
    "X_tweets = vectorizer.fit_transform(tweets_df['Processed_Tweets'])"
   ]
  },
  {
   "cell_type": "code",
   "execution_count": 848,
   "id": "118f481b",
   "metadata": {},
   "outputs": [
    {
     "name": "stdout",
     "output_type": "stream",
     "text": [
      "Matrix shape: (7890, 14094)\n",
      "Total number of tweets: 7890\n",
      "Total number of unique words (tokens): 14094\n"
     ]
    }
   ],
   "source": [
    "# Getting matrix info\n",
    "print(f\"Matrix shape: {X_tweets.shape}\")\n",
    "print(f\"Total number of tweets: {X_tweets.shape[0]}\")\n",
    "print(f\"Total number of unique words (tokens): {X_tweets.shape[1]}\")"
   ]
  },
  {
   "cell_type": "code",
   "execution_count": 849,
   "id": "3b897a16",
   "metadata": {},
   "outputs": [],
   "source": [
    "# Retrieve words list from tweets\n",
    "words_tweets = vectorizer.get_feature_names()\n",
    "#print(words_tweets)"
   ]
  },
  {
   "cell_type": "code",
   "execution_count": 850,
   "id": "43fbce8e",
   "metadata": {},
   "outputs": [],
   "source": [
    "# Getting the TF-IDF weight of each word in corpus as DataFrame\n",
    "# The mean value of the TF–IDF for each term is used to create the DataFrame.\n",
    "words_tweets_df = pd.DataFrame(\n",
    "    list(zip(words_tweets, np.ravel(X_tweets.mean(axis=0)))), columns=[\"Word\", \"TF-IDF\"]\n",
    ")\n",
    "\n",
    "words_tweets_df = words_tweets_df.sort_values(by=[\"TF-IDF\"], ascending=False)"
   ]
  },
  {
   "cell_type": "code",
   "execution_count": 851,
   "id": "ceff0d5f",
   "metadata": {},
   "outputs": [
    {
     "data": {
      "text/html": [
       "<div>\n",
       "<style scoped>\n",
       "    .dataframe tbody tr th:only-of-type {\n",
       "        vertical-align: middle;\n",
       "    }\n",
       "\n",
       "    .dataframe tbody tr th {\n",
       "        vertical-align: top;\n",
       "    }\n",
       "\n",
       "    .dataframe thead th {\n",
       "        text-align: right;\n",
       "    }\n",
       "</style>\n",
       "<table border=\"1\" class=\"dataframe\">\n",
       "  <thead>\n",
       "    <tr style=\"text-align: right;\">\n",
       "      <th></th>\n",
       "      <th>Word</th>\n",
       "      <th>TF-IDF</th>\n",
       "    </tr>\n",
       "  </thead>\n",
       "  <tbody>\n",
       "    <tr>\n",
       "      <th>5364</th>\n",
       "      <td>ev</td>\n",
       "      <td>0.041710</td>\n",
       "    </tr>\n",
       "    <tr>\n",
       "      <th>9117</th>\n",
       "      <td>nio</td>\n",
       "      <td>0.032799</td>\n",
       "    </tr>\n",
       "    <tr>\n",
       "      <th>5013</th>\n",
       "      <td>electric</td>\n",
       "      <td>0.025797</td>\n",
       "    </tr>\n",
       "    <tr>\n",
       "      <th>12657</th>\n",
       "      <td>tesla</td>\n",
       "      <td>0.018599</td>\n",
       "    </tr>\n",
       "    <tr>\n",
       "      <th>12162</th>\n",
       "      <td>stock</td>\n",
       "      <td>0.018497</td>\n",
       "    </tr>\n",
       "  </tbody>\n",
       "</table>\n",
       "</div>"
      ],
      "text/plain": [
       "           Word    TF-IDF\n",
       "5364         ev  0.041710\n",
       "9117        nio  0.032799\n",
       "5013   electric  0.025797\n",
       "12657     tesla  0.018599\n",
       "12162     stock  0.018497"
      ]
     },
     "execution_count": 851,
     "metadata": {},
     "output_type": "execute_result"
    }
   ],
   "source": [
    "words_tweets_df.head()"
   ]
  },
  {
   "cell_type": "code",
   "execution_count": 852,
   "id": "582434a3",
   "metadata": {},
   "outputs": [
    {
     "data": {
      "text/html": [
       "<div>\n",
       "<style scoped>\n",
       "    .dataframe tbody tr th:only-of-type {\n",
       "        vertical-align: middle;\n",
       "    }\n",
       "\n",
       "    .dataframe tbody tr th {\n",
       "        vertical-align: top;\n",
       "    }\n",
       "\n",
       "    .dataframe thead th {\n",
       "        text-align: right;\n",
       "    }\n",
       "</style>\n",
       "<table border=\"1\" class=\"dataframe\">\n",
       "  <thead>\n",
       "    <tr style=\"text-align: right;\">\n",
       "      <th></th>\n",
       "      <th>Word</th>\n",
       "      <th>TF-IDF</th>\n",
       "    </tr>\n",
       "  </thead>\n",
       "  <tbody>\n",
       "    <tr>\n",
       "      <th>2185</th>\n",
       "      <td>atl</td>\n",
       "      <td>0.000011</td>\n",
       "    </tr>\n",
       "    <tr>\n",
       "      <th>10993</th>\n",
       "      <td>risking5</td>\n",
       "      <td>0.000011</td>\n",
       "    </tr>\n",
       "    <tr>\n",
       "      <th>9876</th>\n",
       "      <td>pitt</td>\n",
       "      <td>0.000011</td>\n",
       "    </tr>\n",
       "    <tr>\n",
       "      <th>3459</th>\n",
       "      <td>cin</td>\n",
       "      <td>0.000011</td>\n",
       "    </tr>\n",
       "    <tr>\n",
       "      <th>2350</th>\n",
       "      <td>az</td>\n",
       "      <td>0.000011</td>\n",
       "    </tr>\n",
       "  </tbody>\n",
       "</table>\n",
       "</div>"
      ],
      "text/plain": [
       "           Word    TF-IDF\n",
       "2185        atl  0.000011\n",
       "10993  risking5  0.000011\n",
       "9876       pitt  0.000011\n",
       "3459        cin  0.000011\n",
       "2350         az  0.000011"
      ]
     },
     "execution_count": 852,
     "metadata": {},
     "output_type": "execute_result"
    }
   ],
   "source": [
    "# Lowest 10 TF-IDF scores\n",
    "words_tweets_df.tail()"
   ]
  },
  {
   "cell_type": "code",
   "execution_count": 853,
   "id": "8ac062b3",
   "metadata": {},
   "outputs": [
    {
     "data": {
      "text/html": [
       "<div>\n",
       "<style scoped>\n",
       "    .dataframe tbody tr th:only-of-type {\n",
       "        vertical-align: middle;\n",
       "    }\n",
       "\n",
       "    .dataframe tbody tr th {\n",
       "        vertical-align: top;\n",
       "    }\n",
       "\n",
       "    .dataframe thead th {\n",
       "        text-align: right;\n",
       "    }\n",
       "</style>\n",
       "<table border=\"1\" class=\"dataframe\">\n",
       "  <thead>\n",
       "    <tr style=\"text-align: right;\">\n",
       "      <th></th>\n",
       "      <th>Word</th>\n",
       "      <th>Frequency</th>\n",
       "    </tr>\n",
       "  </thead>\n",
       "  <tbody>\n",
       "    <tr>\n",
       "      <th>5097</th>\n",
       "      <td>embarrassing</td>\n",
       "      <td>4624</td>\n",
       "    </tr>\n",
       "    <tr>\n",
       "      <th>8564</th>\n",
       "      <td>meters</td>\n",
       "      <td>1817</td>\n",
       "    </tr>\n",
       "    <tr>\n",
       "      <th>4763</th>\n",
       "      <td>dragtimes</td>\n",
       "      <td>1658</td>\n",
       "    </tr>\n",
       "    <tr>\n",
       "      <th>11356</th>\n",
       "      <td>sec</td>\n",
       "      <td>1519</td>\n",
       "    </tr>\n",
       "    <tr>\n",
       "      <th>11806</th>\n",
       "      <td>snake</td>\n",
       "      <td>1093</td>\n",
       "    </tr>\n",
       "    <tr>\n",
       "      <th>2403</th>\n",
       "      <td>balls</td>\n",
       "      <td>609</td>\n",
       "    </tr>\n",
       "    <tr>\n",
       "      <th>8502</th>\n",
       "      <td>meg</td>\n",
       "      <td>607</td>\n",
       "    </tr>\n",
       "    <tr>\n",
       "      <th>12178</th>\n",
       "      <td>stockssuccess</td>\n",
       "      <td>605</td>\n",
       "    </tr>\n",
       "    <tr>\n",
       "      <th>2913</th>\n",
       "      <td>brqs</td>\n",
       "      <td>536</td>\n",
       "    </tr>\n",
       "    <tr>\n",
       "      <th>10460</th>\n",
       "      <td>raceway</td>\n",
       "      <td>457</td>\n",
       "    </tr>\n",
       "  </tbody>\n",
       "</table>\n",
       "</div>"
      ],
      "text/plain": [
       "                Word  Frequency\n",
       "5097    embarrassing       4624\n",
       "8564          meters       1817\n",
       "4763       dragtimes       1658\n",
       "11356            sec       1519\n",
       "11806          snake       1093\n",
       "2403           balls        609\n",
       "8502             meg        607\n",
       "12178  stockssuccess        605\n",
       "2913            brqs        536\n",
       "10460        raceway        457"
      ]
     },
     "execution_count": 853,
     "metadata": {},
     "output_type": "execute_result"
    }
   ],
   "source": [
    "tweets_freq_df = pd.DataFrame(\n",
    "    list(zip(vectorizer.get_feature_names(), np.ravel(X.sum(axis=0)))),\n",
    "    columns=[\"Word\", \"Frequency\"],\n",
    ")\n",
    "\n",
    "# Order the DataFrame by word frequency, instead of TF-IDF like above, in descending order\n",
    "tweets_freq_df = tweets_freq_df.sort_values(by=[\"Frequency\"], ascending=False)\n",
    "\n",
    "# Print the top 10 words\n",
    "tweets_freq_df.head(10)"
   ]
  },
  {
   "cell_type": "code",
   "execution_count": 854,
   "id": "ff22bab3",
   "metadata": {},
   "outputs": [
    {
     "data": {
      "text/html": [
       "<div>\n",
       "<style scoped>\n",
       "    .dataframe tbody tr th:only-of-type {\n",
       "        vertical-align: middle;\n",
       "    }\n",
       "\n",
       "    .dataframe tbody tr th {\n",
       "        vertical-align: top;\n",
       "    }\n",
       "\n",
       "    .dataframe thead th {\n",
       "        text-align: right;\n",
       "    }\n",
       "</style>\n",
       "<table border=\"1\" class=\"dataframe\">\n",
       "  <thead>\n",
       "    <tr style=\"text-align: right;\">\n",
       "      <th></th>\n",
       "      <th>Word</th>\n",
       "      <th>Frequency</th>\n",
       "    </tr>\n",
       "  </thead>\n",
       "  <tbody>\n",
       "    <tr>\n",
       "      <th>10460</th>\n",
       "      <td>raceway</td>\n",
       "      <td>457</td>\n",
       "    </tr>\n",
       "    <tr>\n",
       "      <th>8202</th>\n",
       "      <td>lrcx</td>\n",
       "      <td>440</td>\n",
       "    </tr>\n",
       "    <tr>\n",
       "      <th>1850</th>\n",
       "      <td>amat</td>\n",
       "      <td>428</td>\n",
       "    </tr>\n",
       "    <tr>\n",
       "      <th>5623</th>\n",
       "      <td>factually</td>\n",
       "      <td>405</td>\n",
       "    </tr>\n",
       "    <tr>\n",
       "      <th>8280</th>\n",
       "      <td>magnets</td>\n",
       "      <td>403</td>\n",
       "    </tr>\n",
       "    <tr>\n",
       "      <th>7545</th>\n",
       "      <td>jitters</td>\n",
       "      <td>401</td>\n",
       "    </tr>\n",
       "    <tr>\n",
       "      <th>3216</th>\n",
       "      <td>catholyte</td>\n",
       "      <td>391</td>\n",
       "    </tr>\n",
       "    <tr>\n",
       "      <th>12531</th>\n",
       "      <td>tariffs</td>\n",
       "      <td>389</td>\n",
       "    </tr>\n",
       "    <tr>\n",
       "      <th>7860</th>\n",
       "      <td>lawsuits</td>\n",
       "      <td>375</td>\n",
       "    </tr>\n",
       "    <tr>\n",
       "      <th>3011</th>\n",
       "      <td>butter</td>\n",
       "      <td>354</td>\n",
       "    </tr>\n",
       "  </tbody>\n",
       "</table>\n",
       "</div>"
      ],
      "text/plain": [
       "            Word  Frequency\n",
       "10460    raceway        457\n",
       "8202        lrcx        440\n",
       "1850        amat        428\n",
       "5623   factually        405\n",
       "8280     magnets        403\n",
       "7545     jitters        401\n",
       "3216   catholyte        391\n",
       "12531    tariffs        389\n",
       "7860    lawsuits        375\n",
       "3011      butter        354"
      ]
     },
     "execution_count": 854,
     "metadata": {},
     "output_type": "execute_result"
    }
   ],
   "source": [
    "# Top words will be those with a frequency between 100 ans 300 (thumb rule)\n",
    "top_words = tweets_freq_df[\n",
    "    (tweets_freq_df[\"Frequency\"] >= 100) & (tweets_freq_df[\"Frequency\"] <= 500)\n",
    "]\n",
    "\n",
    "top_words.head(10)"
   ]
  },
  {
   "cell_type": "code",
   "execution_count": 891,
   "id": "cc46a503",
   "metadata": {},
   "outputs": [
    {
     "data": {
      "image/png": "[encoded data removed]",
      "text/plain": [
       "<Figure size 432x288 with 1 Axes>"
      ]
     },
     "metadata": {
      "needs_background": "light"
     },
     "output_type": "display_data"
    }
   ],
   "source": [
    "# Create a string list of terms to generate the word cloud\n",
    "terms_list = str(top_words[\"Word\"].tolist())\n",
    "\n",
    "# Create the word cloud\n",
    "wordcloud = WordCloud(colormap=\"RdYlBu\").generate(terms_list)\n",
    "plt.imshow(wordcloud)\n",
    "plt.axis(\"off\")\n",
    "fontdict = {\"fontsize\": 20, \"fontweight\": \"bold\"}\n",
    "plt.title(\"Electric Vehicle News Word Cloud\", fontdict=fontdict)\n",
    "plt.show()"
   ]
  },
  {
   "cell_type": "code",
   "execution_count": 856,
   "id": "19c2b8d6",
   "metadata": {
    "scrolled": true
   },
   "outputs": [
    {
     "data": {
      "text/plain": [
       "Index(['Id', 'Date', 'Tweets', 'Location', 'Retweets', 'Favorite',\n",
       "       'Processed_Tweets', 'Tweets_Nouns', 'Tweets_Adjectives',\n",
       "       'Tweets_Sentiments'],\n",
       "      dtype='object')"
      ]
     },
     "execution_count": 856,
     "metadata": {},
     "output_type": "execute_result"
    }
   ],
   "source": [
    "tweets_df.columns"
   ]
  },
  {
   "cell_type": "code",
   "execution_count": 857,
   "id": "b46f4447",
   "metadata": {
    "scrolled": true
   },
   "outputs": [
    {
     "data": {
      "text/plain": [
       "Id                            int64\n",
       "Date                 datetime64[ns]\n",
       "Tweets                       object\n",
       "Location                     object\n",
       "Retweets                      int64\n",
       "Favorite                      int64\n",
       "Processed_Tweets             object\n",
       "Tweets_Nouns                 object\n",
       "Tweets_Adjectives            object\n",
       "Tweets_Sentiments            object\n",
       "dtype: object"
      ]
     },
     "execution_count": 857,
     "metadata": {},
     "output_type": "execute_result"
    }
   ],
   "source": [
    "tweets_df.dtypes"
   ]
  },
  {
   "cell_type": "code",
   "execution_count": 858,
   "id": "fa943926",
   "metadata": {},
   "outputs": [],
   "source": [
    "# Sentiment calculation based on compound score\n",
    "def get_sentiment(score):\n",
    "    \"\"\"\n",
    "    Calculates the sentiment based on the compound score.\n",
    "    \"\"\"\n",
    "    result = 0  # Neutral by default\n",
    "    if score >= 0.05:  # Positive\n",
    "        result = 1\n",
    "    elif score <= -0.05:  # Negative\n",
    "        result = -1\n",
    "\n",
    "    return result"
   ]
  },
  {
   "cell_type": "code",
   "execution_count": null,
   "id": "5193edfd",
   "metadata": {},
   "outputs": [],
   "source": []
  },
  {
   "cell_type": "code",
   "execution_count": 859,
   "id": "6de7441c",
   "metadata": {},
   "outputs": [
    {
     "data": {
      "text/html": [
       "<div>\n",
       "<style scoped>\n",
       "    .dataframe tbody tr th:only-of-type {\n",
       "        vertical-align: middle;\n",
       "    }\n",
       "\n",
       "    .dataframe tbody tr th {\n",
       "        vertical-align: top;\n",
       "    }\n",
       "\n",
       "    .dataframe thead th {\n",
       "        text-align: right;\n",
       "    }\n",
       "</style>\n",
       "<table border=\"1\" class=\"dataframe\">\n",
       "  <thead>\n",
       "    <tr style=\"text-align: right;\">\n",
       "      <th></th>\n",
       "      <th>tweet_compound</th>\n",
       "      <th>tweet_pos</th>\n",
       "      <th>tweet_neu</th>\n",
       "      <th>tweet_neg</th>\n",
       "      <th>tweet_sent</th>\n",
       "    </tr>\n",
       "  </thead>\n",
       "  <tbody>\n",
       "    <tr>\n",
       "      <th>0</th>\n",
       "      <td>0.9246</td>\n",
       "      <td>0.567</td>\n",
       "      <td>0.433</td>\n",
       "      <td>0.0</td>\n",
       "      <td>1</td>\n",
       "    </tr>\n",
       "    <tr>\n",
       "      <th>1</th>\n",
       "      <td>0.2023</td>\n",
       "      <td>0.265</td>\n",
       "      <td>0.735</td>\n",
       "      <td>0.0</td>\n",
       "      <td>1</td>\n",
       "    </tr>\n",
       "    <tr>\n",
       "      <th>2</th>\n",
       "      <td>0.8442</td>\n",
       "      <td>0.532</td>\n",
       "      <td>0.468</td>\n",
       "      <td>0.0</td>\n",
       "      <td>1</td>\n",
       "    </tr>\n",
       "    <tr>\n",
       "      <th>3</th>\n",
       "      <td>0.8720</td>\n",
       "      <td>0.476</td>\n",
       "      <td>0.524</td>\n",
       "      <td>0.0</td>\n",
       "      <td>1</td>\n",
       "    </tr>\n",
       "    <tr>\n",
       "      <th>4</th>\n",
       "      <td>0.0000</td>\n",
       "      <td>0.000</td>\n",
       "      <td>1.000</td>\n",
       "      <td>0.0</td>\n",
       "      <td>0</td>\n",
       "    </tr>\n",
       "  </tbody>\n",
       "</table>\n",
       "</div>"
      ],
      "text/plain": [
       "   tweet_compound  tweet_pos  tweet_neu  tweet_neg  tweet_sent\n",
       "0          0.9246      0.567      0.433        0.0           1\n",
       "1          0.2023      0.265      0.735        0.0           1\n",
       "2          0.8442      0.532      0.468        0.0           1\n",
       "3          0.8720      0.476      0.524        0.0           1\n",
       "4          0.0000      0.000      1.000        0.0           0"
      ]
     },
     "execution_count": 859,
     "metadata": {},
     "output_type": "execute_result"
    }
   ],
   "source": [
    "# Sentiment scores dictionaries\n",
    "tweet_sent = {\n",
    "    \"tweet_compound\": [],\n",
    "    \"tweet_pos\": [],\n",
    "    \"tweet_neu\": [],\n",
    "    \"tweet_neg\": [],\n",
    "    \"tweet_sent\": [],\n",
    "}\n",
    "\n",
    "\n",
    "# Get sentiment for the tweet\n",
    "# iterrows() method is used to iterate across the dataframe \n",
    "for index, row in tweets_df.iterrows():\n",
    "    try:\n",
    "        # Sentiment scoring with VADER\n",
    "        tweet_sentiment = analyzer.polarity_scores(row[\"Processed_Tweets\"])  # VADER sentiment scores are retrieved for title\n",
    "        tweet_sent[\"tweet_compound\"].append(tweet_sentiment[\"compound\"])\n",
    "        tweet_sent[\"tweet_pos\"].append(tweet_sentiment[\"pos\"])\n",
    "        tweet_sent[\"tweet_neu\"].append(tweet_sentiment[\"neu\"])\n",
    "        tweet_sent[\"tweet_neg\"].append(tweet_sentiment[\"neg\"])\n",
    "        tweet_sent[\"tweet_sent\"].append(get_sentiment(tweet_sentiment[\"compound\"]))\n",
    "        \n",
    "    except AttributeError:\n",
    "        pass\n",
    "\n",
    "# Attaching sentiment columns to the News DataFrame\n",
    "tweet_sentiment_df = pd.DataFrame(tweet_sent)\n",
    "\n",
    "tweet_sentiment_df.head()"
   ]
  },
  {
   "cell_type": "code",
   "execution_count": 860,
   "id": "709dd3e1",
   "metadata": {},
   "outputs": [],
   "source": [
    "# The Tone Analyzer response is given in JSON format, \n",
    "# so the json_normalize function is imported from Pandas to transform the JSON response to a DataFrame.\n",
    "from pandas import json_normalize\n",
    "\n",
    "# ToneAnalyzerV3 is the main library to access to the Tone Analyzer via Python.\n",
    "from ibm_watson import ToneAnalyzerV3\n",
    "\n",
    "# IAMAuthenticator is used to authenticate your Python application to access the IBM cloud services.\n",
    "from ibm_cloud_sdk_core.authenticators import IAMAuthenticator\n",
    "\n",
    "import json"
   ]
  },
  {
   "cell_type": "code",
   "execution_count": 861,
   "id": "93949879",
   "metadata": {},
   "outputs": [],
   "source": [
    "# Get the Tone Analyzer API Key and URL\n",
    "tone_api = os.getenv(\"IBM_API\")\n",
    "tone_url = os.getenv(\"IBM_URL\")"
   ]
  },
  {
   "cell_type": "code",
   "execution_count": 862,
   "id": "1b50dd5d",
   "metadata": {},
   "outputs": [],
   "source": [
    "# Initialize Tone Analyser Client\n",
    "\n",
    "# Create authentication object\n",
    "authenticator = IAMAuthenticator(tone_api)\n",
    "\n",
    "# Create tone_analyzer instance\n",
    "tone_analyzer = ToneAnalyzerV3(\n",
    "    version=\"2017-09-21\",\n",
    "    authenticator=authenticator\n",
    ")\n",
    "\n",
    "# Set the service endpoint\n",
    "tone_analyzer.set_service_url(tone_url)"
   ]
  },
  {
   "cell_type": "code",
   "execution_count": 877,
   "id": "f3cce0ca",
   "metadata": {},
   "outputs": [
    {
     "data": {
      "text/plain": [
       "'tsla bear admits ev earnings may top expectations july 22 2021 one wall street analyst bearish tesla admits electric likely beat second-quarter earnings expectations see shares drift higher temporarily'"
      ]
     },
     "execution_count": 877,
     "metadata": {},
     "output_type": "execute_result"
    }
   ],
   "source": [
    "tweets_df[\"Processed_Tweets\"][5]"
   ]
  },
  {
   "cell_type": "code",
   "execution_count": 876,
   "id": "331e5f1a",
   "metadata": {},
   "outputs": [
    {
     "name": "stdout",
     "output_type": "stream",
     "text": [
      "{\n",
      "  \"document_tone\": {\n",
      "    \"tones\": [\n",
      "      {\n",
      "        \"score\": 0.664718,\n",
      "        \"tone_id\": \"tentative\",\n",
      "        \"tone_name\": \"Tentative\"\n",
      "      },\n",
      "      {\n",
      "        \"score\": 0.802309,\n",
      "        \"tone_id\": \"analytical\",\n",
      "        \"tone_name\": \"Analytical\"\n",
      "      }\n",
      "    ]\n",
      "  }\n",
      "}\n"
     ]
    }
   ],
   "source": [
    "# Analyze the text's tone with the 'tone()' method.\n",
    "\n",
    "# tone(): The general tone analysis, aimed to score tone on short text\n",
    "# (such as reviews, emails, or social media) or even larger texts (such as articles or blog post)\n",
    "\n",
    "# it only needs to receive a text to score, however, additional parameters could be used\n",
    "# https://cloud.ibm.com/apidocs/tone-analyzer?code=python#data-handling\n",
    "\n",
    "tone_analysis = tone_analyzer.tone( \n",
    "    {\"text\": tweets_df[\"Processed_Tweets\"][5]},\n",
    "    content_type=\"application/json\",\n",
    "    content_language=\"en\",\n",
    "    accept_language=\"en\",\n",
    ").get_result()\n",
    "\n",
    "# Display tone analysis results\n",
    "print(json.dumps(tone_analysis, indent=2))\n",
    "\n",
    "# On the JSON response, the tone is given for the entire document on the document_tone element \n",
    "# as well as for each sentence of the document on the sentences_tone element."
   ]
  },
  {
   "cell_type": "code",
   "execution_count": 888,
   "id": "28304f76",
   "metadata": {},
   "outputs": [],
   "source": [
    "tweets_sh = tweets_df.iloc[:500]\n",
    "tweets_sh = tweets_sh.drop_duplicates('Processed_Tweets', keep='last')"
   ]
  },
  {
   "cell_type": "code",
   "execution_count": 889,
   "id": "7357c993",
   "metadata": {},
   "outputs": [
    {
     "name": "stdout",
     "output_type": "stream",
     "text": [
      "{\n",
      "  \"utterances_tone\": [\n",
      "    {\n",
      "      \"utterance_id\": 0,\n",
      "      \"utterance_text\": \"_truths _avoigt think ev still pretty new room improve best invest amp keep fresh top ev\",\n",
      "      \"tones\": [\n",
      "        {\n",
      "          \"score\": 0.872201,\n",
      "          \"tone_id\": \"excited\",\n",
      "          \"tone_name\": \"Excited\"\n",
      "        }\n",
      "      ]\n",
      "    },\n",
      "    {\n",
      "      \"utterance_id\": 1,\n",
      "      \"utterance_text\": \"compact international 1994 wants top ev-brake\",\n",
      "      \"tones\": [\n",
      "        {\n",
      "          \"score\": 0.615788,\n",
      "          \"tone_id\": \"polite\",\n",
      "          \"tone_name\": \"Polite\"\n",
      "        }\n",
      "      ]\n",
      "    },\n",
      "    {\n",
      "      \"utterance_id\": 2,\n",
      "      \"utterance_text\": \"toyota much better volkswagen legacy companies customers best interests anywhere the\\u2026\",\n",
      "      \"tones\": [\n",
      "        {\n",
      "          \"score\": 0.928329,\n",
      "          \"tone_id\": \"excited\",\n",
      "          \"tone_name\": \"Excited\"\n",
      "        },\n",
      "        {\n",
      "          \"score\": 0.683147,\n",
      "          \"tone_id\": \"satisfied\",\n",
      "          \"tone_name\": \"Satisfied\"\n",
      "        }\n",
      "      ]\n",
      "    },\n",
      "    {\n",
      "      \"utterance_id\": 3,\n",
      "      \"utterance_text\": \"toyota much better volkswagen legacy companies customers best interests anywhere top ten priorities buy pure ev\",\n",
      "      \"tones\": [\n",
      "        {\n",
      "          \"score\": 0.846007,\n",
      "          \"tone_id\": \"excited\",\n",
      "          \"tone_name\": \"Excited\"\n",
      "        }\n",
      "      ]\n",
      "    },\n",
      "    {\n",
      "      \"utterance_id\": 4,\n",
      "      \"utterance_text\": \"gm china venture big ambitions beyond 4,500 electric bloomberg\",\n",
      "      \"tones\": []\n",
      "    },\n",
      "    {\n",
      "      \"utterance_id\": 5,\n",
      "      \"utterance_text\": \"tsla bear admits ev earnings may top expectations july 22 2021 one wall street analyst bearish tesla admits electric likely beat second-quarter earnings expectations see shares drift higher temporarily\",\n",
      "      \"tones\": []\n",
      "    },\n",
      "    {\n",
      "      \"utterance_id\": 6,\n",
      "      \"utterance_text\": \"china top ev saic-gm-wuling beating tesla via electricvehicles mobility cli\\u2026\",\n",
      "      \"tones\": []\n",
      "    },\n",
      "    {\n",
      "      \"utterance_id\": 7,\n",
      "      \"utterance_text\": \"china top ev saic-gm-wuling beating tesla via electricvehicles mobility climatechange sustainability\",\n",
      "      \"tones\": []\n",
      "    },\n",
      "    {\n",
      "      \"utterance_id\": 8,\n",
      "      \"utterance_text\": \"_fuson example second place best ev looks like vs tesla one many obvious examples younger techies know tesla top seller china vw sold ~1200 forcing buy credits tesla\",\n",
      "      \"tones\": []\n",
      "    },\n",
      "    {\n",
      "      \"utterance_id\": 9,\n",
      "      \"utterance_text\": \"lucid motors become one top ev stocks vote delayed investor business daily\",\n",
      "      \"tones\": []\n",
      "    },\n",
      "    {\n",
      "      \"utterance_id\": 10,\n",
      "      \"utterance_text\": \"new subscribers tesla bear admits ev earnings may top street giving stock short-term pop check \\u2026\",\n",
      "      \"tones\": []\n",
      "    },\n",
      "    {\n",
      "      \"utterance_id\": 11,\n",
      "      \"utterance_text\": \"new subscribers tesla bear admits ev earnings may top street giving stock short-term pop check\",\n",
      "      \"tones\": []\n",
      "    },\n",
      "    {\n",
      "      \"utterance_id\": 12,\n",
      "      \"utterance_text\": \"new subscribers tesla bear admits ev earnings may top street giving stock short-term pop\",\n",
      "      \"tones\": []\n",
      "    },\n",
      "    {\n",
      "      \"utterance_id\": 13,\n",
      "      \"utterance_text\": \"tesla bear admits ev earnings may top street\",\n",
      "      \"tones\": []\n",
      "    },\n",
      "    {\n",
      "      \"utterance_id\": 14,\n",
      "      \"utterance_text\": \"tesla bear admits ev earnings may top street way admitting wrong without saying wrong tsla\",\n",
      "      \"tones\": []\n",
      "    },\n",
      "    {\n",
      "      \"utterance_id\": 15,\n",
      "      \"utterance_text\": \"tesla tsla bear admits ev earnings may top street\",\n",
      "      \"tones\": []\n",
      "    },\n",
      "    {\n",
      "      \"utterance_id\": 16,\n",
      "      \"utterance_text\": \"tesla bear admits ev earnings may top street giving stock short-term pop\",\n",
      "      \"tones\": []\n",
      "    },\n",
      "    {\n",
      "      \"utterance_id\": 17,\n",
      "      \"utterance_text\": \"knowing never big fail ev battery giant catl draining competitor ip violations catl ev china\",\n",
      "      \"tones\": [\n",
      "        {\n",
      "          \"score\": 0.596085,\n",
      "          \"tone_id\": \"sad\",\n",
      "          \"tone_name\": \"Sad\"\n",
      "        }\n",
      "      ]\n",
      "    },\n",
      "    {\n",
      "      \"utterance_id\": 18,\n",
      "      \"utterance_text\": \"china catl ranked top ev battery 31.2 global share jan-may vs 22 earlier byd r\\u2026\",\n",
      "      \"tones\": []\n",
      "    },\n",
      "    {\n",
      "      \"utterance_id\": 19,\n",
      "      \"utterance_text\": \"_update byd china world leading electric manufacturer collaborated pakistan sapphire group d\\u2026\",\n",
      "      \"tones\": [\n",
      "        {\n",
      "          \"score\": 0.716268,\n",
      "          \"tone_id\": \"excited\",\n",
      "          \"tone_name\": \"Excited\"\n",
      "        }\n",
      "      ]\n",
      "    },\n",
      "    {\n",
      "      \"utterance_id\": 20,\n",
      "      \"utterance_text\": \"maybe life dedicated attacking ev manufacturer tesla \\ud83e\\udd37\\u200d\\u2642\\ufe0f\",\n",
      "      \"tones\": [\n",
      "        {\n",
      "          \"score\": 0.759492,\n",
      "          \"tone_id\": \"frustrated\",\n",
      "          \"tone_name\": \"Frustrated\"\n",
      "        }\n",
      "      ]\n",
      "    },\n",
      "    {\n",
      "      \"utterance_id\": 21,\n",
      "      \"utterance_text\": \"disagree years people focus range look nearly new ev announcement past 10 years look every ev manufacturer website focus range barely mention efficiency\",\n",
      "      \"tones\": []\n",
      "    },\n",
      "    {\n",
      "      \"utterance_id\": 22,\n",
      "      \"utterance_text\": \"always 10 steps ahead every manufacturer planet manufacturers trying figure convert gas powered vehicles ev making hybrid 1st help succeed helping\",\n",
      "      \"tones\": [\n",
      "        {\n",
      "          \"score\": 0.656882,\n",
      "          \"tone_id\": \"excited\",\n",
      "          \"tone_name\": \"Excited\"\n",
      "        }\n",
      "      ]\n",
      "    },\n",
      "    {\n",
      "      \"utterance_id\": 23,\n",
      "      \"utterance_text\": \"yes sad story believe rights name cars reverted saab ab still hope ev manufacturer might acquire due course strikes brand would great\",\n",
      "      \"tones\": [\n",
      "        {\n",
      "          \"score\": 0.547999,\n",
      "          \"tone_id\": \"sad\",\n",
      "          \"tone_name\": \"Sad\"\n",
      "        }\n",
      "      ]\n",
      "    },\n",
      "    {\n",
      "      \"utterance_id\": 24,\n",
      "      \"utterance_text\": \"well govt can/must allow less negligible import duty say 5000 cars per manufacturer see demand ev indian ev chance become mainstream india.if sales good 'll invest survive\",\n",
      "      \"tones\": []\n",
      "    },\n",
      "    {\n",
      "      \"utterance_id\": 25,\n",
      "      \"utterance_text\": \"ev vs ice evs dangerous produce due high voltage instances harder ones premium manufacturer ones toyota\",\n",
      "      \"tones\": [\n",
      "        {\n",
      "          \"score\": 0.542468,\n",
      "          \"tone_id\": \"sad\",\n",
      "          \"tone_name\": \"Sad\"\n",
      "        }\n",
      "      ]\n",
      "    },\n",
      "    {\n",
      "      \"utterance_id\": 26,\n",
      "      \"utterance_text\": \"byd china world leading electric manufacturer collaborated pakistan sapphire group market\\u2026\",\n",
      "      \"tones\": [\n",
      "        {\n",
      "          \"score\": 0.669418,\n",
      "          \"tone_id\": \"excited\",\n",
      "          \"tone_name\": \"Excited\"\n",
      "        }\n",
      "      ]\n",
      "    },\n",
      "    {\n",
      "      \"utterance_id\": 27,\n",
      "      \"utterance_text\": \"tsla particular interesting position second btc behind mstr 1 ev manufacturer worldwide mention tesla power pulled btbt mstr everytime btc rips would 1,500\",\n",
      "      \"tones\": []\n",
      "    },\n",
      "    {\n",
      "      \"utterance_id\": 28,\n",
      "      \"utterance_text\": \"sir please reduce import duty evs india every ev manufacturer would invest india .and good environment .thank\",\n",
      "      \"tones\": [\n",
      "        {\n",
      "          \"score\": 0.540301,\n",
      "          \"tone_id\": \"excited\",\n",
      "          \"tone_name\": \"Excited\"\n",
      "        },\n",
      "        {\n",
      "          \"score\": 0.928115,\n",
      "          \"tone_id\": \"polite\",\n",
      "          \"tone_name\": \"Polite\"\n",
      "        },\n",
      "        {\n",
      "          \"score\": 0.648308,\n",
      "          \"tone_id\": \"satisfied\",\n",
      "          \"tone_name\": \"Satisfied\"\n",
      "        }\n",
      "      ]\n",
      "    },\n",
      "    {\n",
      "      \"utterance_id\": 29,\n",
      "      \"utterance_text\": \"sir please reduce import duty electric vehicles every ev manufacturer would invest india good environment.thank\",\n",
      "      \"tones\": [\n",
      "        {\n",
      "          \"score\": 0.632193,\n",
      "          \"tone_id\": \"excited\",\n",
      "          \"tone_name\": \"Excited\"\n",
      "        },\n",
      "        {\n",
      "          \"score\": 0.943226,\n",
      "          \"tone_id\": \"polite\",\n",
      "          \"tone_name\": \"Polite\"\n",
      "        },\n",
      "        {\n",
      "          \"score\": 0.614839,\n",
      "          \"tone_id\": \"satisfied\",\n",
      "          \"tone_name\": \"Satisfied\"\n",
      "        }\n",
      "      ]\n",
      "    },\n",
      "    {\n",
      "      \"utterance_id\": 30,\n",
      "      \"utterance_text\": \"world largest manufacturer say \\u201c meh \\u201d evs toyota jumped ev bandwagon fact top toyota executive h\\u2026\",\n",
      "      \"tones\": [\n",
      "        {\n",
      "          \"score\": 0.734766,\n",
      "          \"tone_id\": \"excited\",\n",
      "          \"tone_name\": \"Excited\"\n",
      "        }\n",
      "      ]\n",
      "    },\n",
      "    {\n",
      "      \"utterance_id\": 31,\n",
      "      \"utterance_text\": \"didyouknow rolexrings one top 5 forging companies india amp global manufacturer supplier hot rolled for\\u2026\",\n",
      "      \"tones\": [\n",
      "        {\n",
      "          \"score\": 0.770007,\n",
      "          \"tone_id\": \"frustrated\",\n",
      "          \"tone_name\": \"Frustrated\"\n",
      "        },\n",
      "        {\n",
      "          \"score\": 0.624692,\n",
      "          \"tone_id\": \"sad\",\n",
      "          \"tone_name\": \"Sad\"\n",
      "        }\n",
      "      ]\n",
      "    },\n",
      "    {\n",
      "      \"utterance_id\": 32,\n",
      "      \"utterance_text\": \"ilika ceo graeme purdy talks _futures goliath solidstatebattery ev benefits \\u2026\",\n",
      "      \"tones\": [\n",
      "        {\n",
      "          \"score\": 0.770567,\n",
      "          \"tone_id\": \"excited\",\n",
      "          \"tone_name\": \"Excited\"\n",
      "        }\n",
      "      ]\n",
      "    },\n",
      "    {\n",
      "      \"utterance_id\": 33,\n",
      "      \"utterance_text\": \"alex shady guy lost trust ev sold chanel advertisement fee manufacturer like media\",\n",
      "      \"tones\": [\n",
      "        {\n",
      "          \"score\": 0.695785,\n",
      "          \"tone_id\": \"frustrated\",\n",
      "          \"tone_name\": \"Frustrated\"\n",
      "        },\n",
      "        {\n",
      "          \"score\": 0.654584,\n",
      "          \"tone_id\": \"sad\",\n",
      "          \"tone_name\": \"Sad\"\n",
      "        }\n",
      "      ]\n",
      "    },\n",
      "    {\n",
      "      \"utterance_id\": 34,\n",
      "      \"utterance_text\": \"_enough traditional manufacturer single ev sell 100k units 2021. doubt\",\n",
      "      \"tones\": []\n",
      "    },\n",
      "    {\n",
      "      \"utterance_id\": 35,\n",
      "      \"utterance_text\": \"every manufacturer include dog mode n't matter ev v8\",\n",
      "      \"tones\": []\n",
      "    },\n",
      "    {\n",
      "      \"utterance_id\": 36,\n",
      "      \"utterance_text\": \"world largest manufacturer say \\u201c meh \\u201d evs toyota jumped ev bandwagon fact top toyota executive met regularly us government officials attempt slow efforts push ev sales\",\n",
      "      \"tones\": [\n",
      "        {\n",
      "          \"score\": 0.62206,\n",
      "          \"tone_id\": \"frustrated\",\n",
      "          \"tone_name\": \"Frustrated\"\n",
      "        }\n",
      "      ]\n",
      "    },\n",
      "    {\n",
      "      \"utterance_id\": 37,\n",
      "      \"utterance_text\": \"mvst strong bid 10 contrast many ev battery plays already 100m plus revenue yesterday mvst announced pending partnership austrian ev commercial transport manufacturer\",\n",
      "      \"tones\": []\n",
      "    },\n",
      "    {\n",
      "      \"utterance_id\": 38,\n",
      "      \"utterance_text\": \"green mountain power aims trucks green grid lion electric commercial ev manufacturer lion electric announced vermont energy provider green mountain power purchase two all-electric heavy duty trucks the\\u2026\",\n",
      "      \"tones\": [\n",
      "        {\n",
      "          \"score\": 0.798388,\n",
      "          \"tone_id\": \"excited\",\n",
      "          \"tone_name\": \"Excited\"\n",
      "        }\n",
      "      ]\n",
      "    },\n",
      "    {\n",
      "      \"utterance_id\": 39,\n",
      "      \"utterance_text\": \"ever produce hot-hatch ev sale uk asking manufacturer\",\n",
      "      \"tones\": [\n",
      "        {\n",
      "          \"score\": 0.533992,\n",
      "          \"tone_id\": \"sad\",\n",
      "          \"tone_name\": \"Sad\"\n",
      "        }\n",
      "      ]\n",
      "    },\n",
      "    {\n",
      "      \"utterance_id\": 40,\n",
      "      \"utterance_text\": \"spoke ceo range anxiety solid state batteries might beat traditional lithium-ion cells ev electrification electriccar\",\n",
      "      \"tones\": [\n",
      "        {\n",
      "          \"score\": 0.778618,\n",
      "          \"tone_id\": \"frustrated\",\n",
      "          \"tone_name\": \"Frustrated\"\n",
      "        }\n",
      "      ]\n",
      "    },\n",
      "    {\n",
      "      \"utterance_id\": 41,\n",
      "      \"utterance_text\": \"stand life profit sale ev regardless brand supply power self-driving software actual manufacturer shares people realize going\",\n",
      "      \"tones\": []\n",
      "    },\n",
      "    {\n",
      "      \"utterance_id\": 42,\n",
      "      \"utterance_text\": \"stopping production fantastic biggest mistake bmw ever high end quality mildly hot-hatch ev made manufacturer\",\n",
      "      \"tones\": [\n",
      "        {\n",
      "          \"score\": 0.591715,\n",
      "          \"tone_id\": \"sad\",\n",
      "          \"tone_name\": \"Sad\"\n",
      "        }\n",
      "      ]\n",
      "    },\n",
      "    {\n",
      "      \"utterance_id\": 43,\n",
      "      \"utterance_text\": \"investing 300m specialty semiconductor wafer manufacturer sk siltron css expanding bay city creating 150 high-paying skilled michiganjobs learn investment impacts mobility industry via mobilitymi\",\n",
      "      \"tones\": [\n",
      "        {\n",
      "          \"score\": 0.744562,\n",
      "          \"tone_id\": \"excited\",\n",
      "          \"tone_name\": \"Excited\"\n",
      "        }\n",
      "      ]\n",
      "    },\n",
      "    {\n",
      "      \"utterance_id\": 44,\n",
      "      \"utterance_text\": \"south korean automaker hyundai motor battery manufacturer lg energy solution establish 1.1bn joint venture produce electric ev batteries indonesia holding half business according two companies\",\n",
      "      \"tones\": [\n",
      "        {\n",
      "          \"score\": 0.625463,\n",
      "          \"tone_id\": \"polite\",\n",
      "          \"tone_name\": \"Polite\"\n",
      "        }\n",
      "      ]\n",
      "    },\n",
      "    {\n",
      "      \"utterance_id\": 45,\n",
      "      \"utterance_text\": \"_c9 least could selective picking leave percentage nodules area keeping species disruption minimum would ev battery manufacturer community want support buying conservation grade materials\",\n",
      "      \"tones\": [\n",
      "        {\n",
      "          \"score\": 0.588405,\n",
      "          \"tone_id\": \"frustrated\",\n",
      "          \"tone_name\": \"Frustrated\"\n",
      "        },\n",
      "        {\n",
      "          \"score\": 0.521289,\n",
      "          \"tone_id\": \"sad\",\n",
      "          \"tone_name\": \"Sad\"\n",
      "        }\n",
      "      ]\n",
      "    },\n",
      "    {\n",
      "      \"utterance_id\": 46,\n",
      "      \"utterance_text\": \"ilika ceo graeme purdy talks _futures goliath solidstatebattery ev benefits commercial roll-out plans partnerships amp future transportation electricvehicles automotive batteries\",\n",
      "      \"tones\": [\n",
      "        {\n",
      "          \"score\": 0.745529,\n",
      "          \"tone_id\": \"excited\",\n",
      "          \"tone_name\": \"Excited\"\n",
      "        }\n",
      "      ]\n",
      "    },\n",
      "    {\n",
      "      \"utterance_id\": 47,\n",
      "      \"utterance_text\": \"solid state batteries future according ceo graeme purdy solid state units energy-dense explosion risk like current lithium-ion alternatives charging batteries ev\",\n",
      "      \"tones\": [\n",
      "        {\n",
      "          \"score\": 0.613711,\n",
      "          \"tone_id\": \"sad\",\n",
      "          \"tone_name\": \"Sad\"\n",
      "        }\n",
      "      ]\n",
      "    },\n",
      "    {\n",
      "      \"utterance_id\": 48,\n",
      "      \"utterance_text\": \"''south korean automaker hyundai motor battery manufacturer lg energy solution establish 1.1bn joint venture produce electric ev batteries indonesia holding half business according two companies ''\",\n",
      "      \"tones\": [\n",
      "        {\n",
      "          \"score\": 0.625463,\n",
      "          \"tone_id\": \"polite\",\n",
      "          \"tone_name\": \"Polite\"\n",
      "        }\n",
      "      ]\n",
      "    },\n",
      "    {\n",
      "      \"utterance_id\": 49,\n",
      "      \"utterance_text\": \"tesla hyundai battery manufacturer catl unveiled innovative new sodium-ion battery system promises significantly faster charging improved thermal stability lithium-ion batteries thing past battery charging ev\",\n",
      "      \"tones\": [\n",
      "        {\n",
      "          \"score\": 0.613072,\n",
      "          \"tone_id\": \"frustrated\",\n",
      "          \"tone_name\": \"Frustrated\"\n",
      "        },\n",
      "        {\n",
      "          \"score\": 0.765199,\n",
      "          \"tone_id\": \"sad\",\n",
      "          \"tone_name\": \"Sad\"\n",
      "        }\n",
      "      ]\n",
      "    }\n",
      "  ],\n",
      "  \"warning\": \"Input number of utterances exceeded API limit of 50 utterances\"\n",
      "}\n"
     ]
    }
   ],
   "source": [
    "# Define conversational utterances (spoken, written expressions/actions)\n",
    "utterances = []\n",
    "for x in tweets_sh[\"Processed_Tweets\"]:\n",
    "    v = [{\"text\": x}]\n",
    "    utterances = utterances + v\n",
    "\n",
    "# Analyze utterances using the 'tone_chat()' method\n",
    "\n",
    "# tone_chat(): The customer engagement tone analysis, designed to monitor customer service and support conversations\n",
    "# based on utterances between an agent and a customer\n",
    "utterance_analysis = tone_analyzer.tone_chat(\n",
    "    utterances=utterances, content_language=\"en\", accept_language=\"en\"\n",
    ").get_result()\n",
    "print(json.dumps(utterance_analysis, indent=2))\n",
    "\n",
    "# On the JSON response, all the tone scores for each utterance are under the utterances_tone element."
   ]
  },
  {
   "cell_type": "code",
   "execution_count": 890,
   "id": "ddc51943",
   "metadata": {},
   "outputs": [
    {
     "data": {
      "text/html": [
       "<div>\n",
       "<style scoped>\n",
       "    .dataframe tbody tr th:only-of-type {\n",
       "        vertical-align: middle;\n",
       "    }\n",
       "\n",
       "    .dataframe tbody tr th {\n",
       "        vertical-align: top;\n",
       "    }\n",
       "\n",
       "    .dataframe thead th {\n",
       "        text-align: right;\n",
       "    }\n",
       "</style>\n",
       "<table border=\"1\" class=\"dataframe\">\n",
       "  <thead>\n",
       "    <tr style=\"text-align: right;\">\n",
       "      <th></th>\n",
       "      <th>score</th>\n",
       "      <th>tone_id</th>\n",
       "      <th>tone_name</th>\n",
       "      <th>utterance_id</th>\n",
       "      <th>utterance_text</th>\n",
       "    </tr>\n",
       "  </thead>\n",
       "  <tbody>\n",
       "    <tr>\n",
       "      <th>0</th>\n",
       "      <td>0.872201</td>\n",
       "      <td>excited</td>\n",
       "      <td>Excited</td>\n",
       "      <td>0</td>\n",
       "      <td>_truths _avoigt think ev still pretty new room...</td>\n",
       "    </tr>\n",
       "    <tr>\n",
       "      <th>1</th>\n",
       "      <td>0.615788</td>\n",
       "      <td>polite</td>\n",
       "      <td>Polite</td>\n",
       "      <td>1</td>\n",
       "      <td>compact international 1994 wants top ev-brake</td>\n",
       "    </tr>\n",
       "    <tr>\n",
       "      <th>2</th>\n",
       "      <td>0.928329</td>\n",
       "      <td>excited</td>\n",
       "      <td>Excited</td>\n",
       "      <td>2</td>\n",
       "      <td>toyota much better volkswagen legacy companies...</td>\n",
       "    </tr>\n",
       "    <tr>\n",
       "      <th>3</th>\n",
       "      <td>0.683147</td>\n",
       "      <td>satisfied</td>\n",
       "      <td>Satisfied</td>\n",
       "      <td>2</td>\n",
       "      <td>toyota much better volkswagen legacy companies...</td>\n",
       "    </tr>\n",
       "    <tr>\n",
       "      <th>4</th>\n",
       "      <td>0.846007</td>\n",
       "      <td>excited</td>\n",
       "      <td>Excited</td>\n",
       "      <td>3</td>\n",
       "      <td>toyota much better volkswagen legacy companies...</td>\n",
       "    </tr>\n",
       "    <tr>\n",
       "      <th>5</th>\n",
       "      <td>0.596085</td>\n",
       "      <td>sad</td>\n",
       "      <td>Sad</td>\n",
       "      <td>17</td>\n",
       "      <td>knowing never big fail ev battery giant catl d...</td>\n",
       "    </tr>\n",
       "    <tr>\n",
       "      <th>6</th>\n",
       "      <td>0.716268</td>\n",
       "      <td>excited</td>\n",
       "      <td>Excited</td>\n",
       "      <td>19</td>\n",
       "      <td>_update byd china world leading electric manuf...</td>\n",
       "    </tr>\n",
       "    <tr>\n",
       "      <th>7</th>\n",
       "      <td>0.759492</td>\n",
       "      <td>frustrated</td>\n",
       "      <td>Frustrated</td>\n",
       "      <td>20</td>\n",
       "      <td>maybe life dedicated attacking ev manufacturer...</td>\n",
       "    </tr>\n",
       "    <tr>\n",
       "      <th>8</th>\n",
       "      <td>0.656882</td>\n",
       "      <td>excited</td>\n",
       "      <td>Excited</td>\n",
       "      <td>22</td>\n",
       "      <td>always 10 steps ahead every manufacturer plane...</td>\n",
       "    </tr>\n",
       "    <tr>\n",
       "      <th>9</th>\n",
       "      <td>0.547999</td>\n",
       "      <td>sad</td>\n",
       "      <td>Sad</td>\n",
       "      <td>23</td>\n",
       "      <td>yes sad story believe rights name cars reverte...</td>\n",
       "    </tr>\n",
       "    <tr>\n",
       "      <th>10</th>\n",
       "      <td>0.542468</td>\n",
       "      <td>sad</td>\n",
       "      <td>Sad</td>\n",
       "      <td>25</td>\n",
       "      <td>ev vs ice evs dangerous produce due high volta...</td>\n",
       "    </tr>\n",
       "    <tr>\n",
       "      <th>11</th>\n",
       "      <td>0.669418</td>\n",
       "      <td>excited</td>\n",
       "      <td>Excited</td>\n",
       "      <td>26</td>\n",
       "      <td>byd china world leading electric manufacturer ...</td>\n",
       "    </tr>\n",
       "    <tr>\n",
       "      <th>12</th>\n",
       "      <td>0.540301</td>\n",
       "      <td>excited</td>\n",
       "      <td>Excited</td>\n",
       "      <td>28</td>\n",
       "      <td>sir please reduce import duty evs india every ...</td>\n",
       "    </tr>\n",
       "    <tr>\n",
       "      <th>13</th>\n",
       "      <td>0.928115</td>\n",
       "      <td>polite</td>\n",
       "      <td>Polite</td>\n",
       "      <td>28</td>\n",
       "      <td>sir please reduce import duty evs india every ...</td>\n",
       "    </tr>\n",
       "    <tr>\n",
       "      <th>14</th>\n",
       "      <td>0.648308</td>\n",
       "      <td>satisfied</td>\n",
       "      <td>Satisfied</td>\n",
       "      <td>28</td>\n",
       "      <td>sir please reduce import duty evs india every ...</td>\n",
       "    </tr>\n",
       "    <tr>\n",
       "      <th>15</th>\n",
       "      <td>0.632193</td>\n",
       "      <td>excited</td>\n",
       "      <td>Excited</td>\n",
       "      <td>29</td>\n",
       "      <td>sir please reduce import duty electric vehicle...</td>\n",
       "    </tr>\n",
       "    <tr>\n",
       "      <th>16</th>\n",
       "      <td>0.943226</td>\n",
       "      <td>polite</td>\n",
       "      <td>Polite</td>\n",
       "      <td>29</td>\n",
       "      <td>sir please reduce import duty electric vehicle...</td>\n",
       "    </tr>\n",
       "    <tr>\n",
       "      <th>17</th>\n",
       "      <td>0.614839</td>\n",
       "      <td>satisfied</td>\n",
       "      <td>Satisfied</td>\n",
       "      <td>29</td>\n",
       "      <td>sir please reduce import duty electric vehicle...</td>\n",
       "    </tr>\n",
       "    <tr>\n",
       "      <th>18</th>\n",
       "      <td>0.734766</td>\n",
       "      <td>excited</td>\n",
       "      <td>Excited</td>\n",
       "      <td>30</td>\n",
       "      <td>world largest manufacturer say “ meh ” evs toy...</td>\n",
       "    </tr>\n",
       "    <tr>\n",
       "      <th>19</th>\n",
       "      <td>0.770007</td>\n",
       "      <td>frustrated</td>\n",
       "      <td>Frustrated</td>\n",
       "      <td>31</td>\n",
       "      <td>didyouknow rolexrings one top 5 forging compan...</td>\n",
       "    </tr>\n",
       "    <tr>\n",
       "      <th>20</th>\n",
       "      <td>0.624692</td>\n",
       "      <td>sad</td>\n",
       "      <td>Sad</td>\n",
       "      <td>31</td>\n",
       "      <td>didyouknow rolexrings one top 5 forging compan...</td>\n",
       "    </tr>\n",
       "    <tr>\n",
       "      <th>21</th>\n",
       "      <td>0.770567</td>\n",
       "      <td>excited</td>\n",
       "      <td>Excited</td>\n",
       "      <td>32</td>\n",
       "      <td>ilika ceo graeme purdy talks _futures goliath ...</td>\n",
       "    </tr>\n",
       "    <tr>\n",
       "      <th>22</th>\n",
       "      <td>0.695785</td>\n",
       "      <td>frustrated</td>\n",
       "      <td>Frustrated</td>\n",
       "      <td>33</td>\n",
       "      <td>alex shady guy lost trust ev sold chanel adver...</td>\n",
       "    </tr>\n",
       "    <tr>\n",
       "      <th>23</th>\n",
       "      <td>0.654584</td>\n",
       "      <td>sad</td>\n",
       "      <td>Sad</td>\n",
       "      <td>33</td>\n",
       "      <td>alex shady guy lost trust ev sold chanel adver...</td>\n",
       "    </tr>\n",
       "    <tr>\n",
       "      <th>24</th>\n",
       "      <td>0.622060</td>\n",
       "      <td>frustrated</td>\n",
       "      <td>Frustrated</td>\n",
       "      <td>36</td>\n",
       "      <td>world largest manufacturer say “ meh ” evs toy...</td>\n",
       "    </tr>\n",
       "    <tr>\n",
       "      <th>25</th>\n",
       "      <td>0.798388</td>\n",
       "      <td>excited</td>\n",
       "      <td>Excited</td>\n",
       "      <td>38</td>\n",
       "      <td>green mountain power aims trucks green grid li...</td>\n",
       "    </tr>\n",
       "    <tr>\n",
       "      <th>26</th>\n",
       "      <td>0.533992</td>\n",
       "      <td>sad</td>\n",
       "      <td>Sad</td>\n",
       "      <td>39</td>\n",
       "      <td>ever produce hot-hatch ev sale uk asking manuf...</td>\n",
       "    </tr>\n",
       "    <tr>\n",
       "      <th>27</th>\n",
       "      <td>0.778618</td>\n",
       "      <td>frustrated</td>\n",
       "      <td>Frustrated</td>\n",
       "      <td>40</td>\n",
       "      <td>spoke ceo range anxiety solid state batteries ...</td>\n",
       "    </tr>\n",
       "    <tr>\n",
       "      <th>28</th>\n",
       "      <td>0.591715</td>\n",
       "      <td>sad</td>\n",
       "      <td>Sad</td>\n",
       "      <td>42</td>\n",
       "      <td>stopping production fantastic biggest mistake ...</td>\n",
       "    </tr>\n",
       "    <tr>\n",
       "      <th>29</th>\n",
       "      <td>0.744562</td>\n",
       "      <td>excited</td>\n",
       "      <td>Excited</td>\n",
       "      <td>43</td>\n",
       "      <td>investing 300m specialty semiconductor wafer m...</td>\n",
       "    </tr>\n",
       "    <tr>\n",
       "      <th>30</th>\n",
       "      <td>0.625463</td>\n",
       "      <td>polite</td>\n",
       "      <td>Polite</td>\n",
       "      <td>44</td>\n",
       "      <td>south korean automaker hyundai motor battery m...</td>\n",
       "    </tr>\n",
       "    <tr>\n",
       "      <th>31</th>\n",
       "      <td>0.588405</td>\n",
       "      <td>frustrated</td>\n",
       "      <td>Frustrated</td>\n",
       "      <td>45</td>\n",
       "      <td>_c9 least could selective picking leave percen...</td>\n",
       "    </tr>\n",
       "    <tr>\n",
       "      <th>32</th>\n",
       "      <td>0.521289</td>\n",
       "      <td>sad</td>\n",
       "      <td>Sad</td>\n",
       "      <td>45</td>\n",
       "      <td>_c9 least could selective picking leave percen...</td>\n",
       "    </tr>\n",
       "    <tr>\n",
       "      <th>33</th>\n",
       "      <td>0.745529</td>\n",
       "      <td>excited</td>\n",
       "      <td>Excited</td>\n",
       "      <td>46</td>\n",
       "      <td>ilika ceo graeme purdy talks _futures goliath ...</td>\n",
       "    </tr>\n",
       "    <tr>\n",
       "      <th>34</th>\n",
       "      <td>0.613711</td>\n",
       "      <td>sad</td>\n",
       "      <td>Sad</td>\n",
       "      <td>47</td>\n",
       "      <td>solid state batteries future according ceo gra...</td>\n",
       "    </tr>\n",
       "    <tr>\n",
       "      <th>35</th>\n",
       "      <td>0.625463</td>\n",
       "      <td>polite</td>\n",
       "      <td>Polite</td>\n",
       "      <td>48</td>\n",
       "      <td>''south korean automaker hyundai motor battery...</td>\n",
       "    </tr>\n",
       "    <tr>\n",
       "      <th>36</th>\n",
       "      <td>0.613072</td>\n",
       "      <td>frustrated</td>\n",
       "      <td>Frustrated</td>\n",
       "      <td>49</td>\n",
       "      <td>tesla hyundai battery manufacturer catl unveil...</td>\n",
       "    </tr>\n",
       "    <tr>\n",
       "      <th>37</th>\n",
       "      <td>0.765199</td>\n",
       "      <td>sad</td>\n",
       "      <td>Sad</td>\n",
       "      <td>49</td>\n",
       "      <td>tesla hyundai battery manufacturer catl unveil...</td>\n",
       "    </tr>\n",
       "  </tbody>\n",
       "</table>\n",
       "</div>"
      ],
      "text/plain": [
       "       score     tone_id   tone_name utterance_id  \\\n",
       "0   0.872201     excited     Excited            0   \n",
       "1   0.615788      polite      Polite            1   \n",
       "2   0.928329     excited     Excited            2   \n",
       "3   0.683147   satisfied   Satisfied            2   \n",
       "4   0.846007     excited     Excited            3   \n",
       "5   0.596085         sad         Sad           17   \n",
       "6   0.716268     excited     Excited           19   \n",
       "7   0.759492  frustrated  Frustrated           20   \n",
       "8   0.656882     excited     Excited           22   \n",
       "9   0.547999         sad         Sad           23   \n",
       "10  0.542468         sad         Sad           25   \n",
       "11  0.669418     excited     Excited           26   \n",
       "12  0.540301     excited     Excited           28   \n",
       "13  0.928115      polite      Polite           28   \n",
       "14  0.648308   satisfied   Satisfied           28   \n",
       "15  0.632193     excited     Excited           29   \n",
       "16  0.943226      polite      Polite           29   \n",
       "17  0.614839   satisfied   Satisfied           29   \n",
       "18  0.734766     excited     Excited           30   \n",
       "19  0.770007  frustrated  Frustrated           31   \n",
       "20  0.624692         sad         Sad           31   \n",
       "21  0.770567     excited     Excited           32   \n",
       "22  0.695785  frustrated  Frustrated           33   \n",
       "23  0.654584         sad         Sad           33   \n",
       "24  0.622060  frustrated  Frustrated           36   \n",
       "25  0.798388     excited     Excited           38   \n",
       "26  0.533992         sad         Sad           39   \n",
       "27  0.778618  frustrated  Frustrated           40   \n",
       "28  0.591715         sad         Sad           42   \n",
       "29  0.744562     excited     Excited           43   \n",
       "30  0.625463      polite      Polite           44   \n",
       "31  0.588405  frustrated  Frustrated           45   \n",
       "32  0.521289         sad         Sad           45   \n",
       "33  0.745529     excited     Excited           46   \n",
       "34  0.613711         sad         Sad           47   \n",
       "35  0.625463      polite      Polite           48   \n",
       "36  0.613072  frustrated  Frustrated           49   \n",
       "37  0.765199         sad         Sad           49   \n",
       "\n",
       "                                       utterance_text  \n",
       "0   _truths _avoigt think ev still pretty new room...  \n",
       "1       compact international 1994 wants top ev-brake  \n",
       "2   toyota much better volkswagen legacy companies...  \n",
       "3   toyota much better volkswagen legacy companies...  \n",
       "4   toyota much better volkswagen legacy companies...  \n",
       "5   knowing never big fail ev battery giant catl d...  \n",
       "6   _update byd china world leading electric manuf...  \n",
       "7   maybe life dedicated attacking ev manufacturer...  \n",
       "8   always 10 steps ahead every manufacturer plane...  \n",
       "9   yes sad story believe rights name cars reverte...  \n",
       "10  ev vs ice evs dangerous produce due high volta...  \n",
       "11  byd china world leading electric manufacturer ...  \n",
       "12  sir please reduce import duty evs india every ...  \n",
       "13  sir please reduce import duty evs india every ...  \n",
       "14  sir please reduce import duty evs india every ...  \n",
       "15  sir please reduce import duty electric vehicle...  \n",
       "16  sir please reduce import duty electric vehicle...  \n",
       "17  sir please reduce import duty electric vehicle...  \n",
       "18  world largest manufacturer say “ meh ” evs toy...  \n",
       "19  didyouknow rolexrings one top 5 forging compan...  \n",
       "20  didyouknow rolexrings one top 5 forging compan...  \n",
       "21  ilika ceo graeme purdy talks _futures goliath ...  \n",
       "22  alex shady guy lost trust ev sold chanel adver...  \n",
       "23  alex shady guy lost trust ev sold chanel adver...  \n",
       "24  world largest manufacturer say “ meh ” evs toy...  \n",
       "25  green mountain power aims trucks green grid li...  \n",
       "26  ever produce hot-hatch ev sale uk asking manuf...  \n",
       "27  spoke ceo range anxiety solid state batteries ...  \n",
       "28  stopping production fantastic biggest mistake ...  \n",
       "29  investing 300m specialty semiconductor wafer m...  \n",
       "30  south korean automaker hyundai motor battery m...  \n",
       "31  _c9 least could selective picking leave percen...  \n",
       "32  _c9 least could selective picking leave percen...  \n",
       "33  ilika ceo graeme purdy talks _futures goliath ...  \n",
       "34  solid state batteries future according ceo gra...  \n",
       "35  ''south korean automaker hyundai motor battery...  \n",
       "36  tesla hyundai battery manufacturer catl unveil...  \n",
       "37  tesla hyundai battery manufacturer catl unveil...  "
      ]
     },
     "execution_count": 890,
     "metadata": {},
     "output_type": "execute_result"
    }
   ],
   "source": [
    "# The JSON response is converted to a Pandas DataFrame using the json_normalize method.\n",
    "# The meta argument is used to include the utterance_id and utterance_text on each row.\n",
    "tweet_tone_df = json_normalize(\n",
    "    data=utterance_analysis[\"utterances_tone\"],\n",
    "    record_path=[\"tones\"],\n",
    "    meta=[\"utterance_id\", \"utterance_text\"],\n",
    ")\n",
    "tweet_tone_df"
   ]
  },
  {
   "cell_type": "code",
   "execution_count": 444,
   "id": "cbda9f03",
   "metadata": {},
   "outputs": [],
   "source": [
    "from newsapi import NewsApiClient"
   ]
  },
  {
   "cell_type": "code",
   "execution_count": 446,
   "id": "da78794e",
   "metadata": {},
   "outputs": [],
   "source": [
    "# Reading the News API key enviroment variable\n",
    "api_key = os.getenv(\"NEWS_API\")\n",
    "# Create a newsapi client\n",
    "newsapi = NewsApiClient(api_key=api_key)"
   ]
  },
  {
   "cell_type": "code",
   "execution_count": null,
   "id": "511e11e0",
   "metadata": {},
   "outputs": [],
   "source": []
  },
  {
   "cell_type": "code",
   "execution_count": null,
   "id": "cda42736",
   "metadata": {},
   "outputs": [],
   "source": []
  },
  {
   "cell_type": "code",
   "execution_count": 363,
   "id": "361ba72a",
   "metadata": {},
   "outputs": [],
   "source": []
  },
  {
   "cell_type": "code",
   "execution_count": null,
   "id": "b6250ea5",
   "metadata": {},
   "outputs": [],
   "source": []
  },
  {
   "cell_type": "code",
   "execution_count": null,
   "id": "6befdc55",
   "metadata": {},
   "outputs": [],
   "source": []
  },
  {
   "cell_type": "code",
   "execution_count": null,
   "id": "9b9b8128",
   "metadata": {},
   "outputs": [],
   "source": []
  },
  {
   "cell_type": "code",
   "execution_count": null,
   "id": "83ad6c77",
   "metadata": {},
   "outputs": [],
   "source": []
  },
  {
   "cell_type": "code",
   "execution_count": null,
   "id": "b9c5de63",
   "metadata": {},
   "outputs": [],
   "source": []
  },
  {
   "cell_type": "code",
   "execution_count": null,
   "id": "841c5c30",
   "metadata": {},
   "outputs": [],
   "source": []
  },
  {
   "cell_type": "code",
   "execution_count": null,
   "id": "fd639207",
   "metadata": {},
   "outputs": [],
   "source": []
  },
  {
   "cell_type": "code",
   "execution_count": null,
   "id": "becd6fe0",
   "metadata": {},
   "outputs": [],
   "source": []
  },
  {
   "cell_type": "code",
   "execution_count": null,
   "id": "e13ac36b",
   "metadata": {},
   "outputs": [],
   "source": []
  },
  {
   "cell_type": "code",
   "execution_count": null,
   "id": "ad34869b",
   "metadata": {},
   "outputs": [],
   "source": [
    "def percentage(part,whole):\n",
    "    return 100 * float(part)/float(whole)\n",
    "    \n",
    "keyword = input(\"Please enter keyword or hashtag to search: \")\n",
    "noOfTweet = int(input (\"Number of tweets to analyze: \"))\n",
    "\n",
    "tweets = tweepy.Cursor(api.search, q=keyword, keyword = keyword + \" -filter:retweets\", lang=\"en\", ).items(noOfTweet)\n",
    "positive = 0\n",
    "negative = 0\n",
    "neutral = 0\n",
    "polarity = 0\n",
    "tweet_list = []\n",
    "neutral_list = []\n",
    "negative_list = []\n",
    "positive_list = []\n",
    "\n",
    "\n",
    "\n",
    "# Sentiment Analysis\n",
    "for tweet in tweets:\n",
    "    tweet_list.append(tweet.text)\n",
    "    analysis = TextBlob(tweet.text)\n",
    "    score = SentimentIntensityAnalyzer().polarity_scores(tweet.text)\n",
    "    neg = score['neg']\n",
    "    neu = score['neu']\n",
    "    pos = score['pos']\n",
    "    comp = score['compound']\n",
    "    polarity += analysis.sentiment.polarity\n",
    " \n",
    "    if neg > pos:\n",
    "        negative_list.append(tweet.text)\n",
    "        negative += 1\n",
    "    elif pos > neg:\n",
    "        positive_list.append(tweet.text)\n",
    "        positive += 1\n",
    " \n",
    "    elif pos == neg:\n",
    "        neutral_list.append(tweet.text)\n",
    "        neutral += 1\n",
    "        \n",
    "# Set the sentiment variables as sentiment of tweet  \n",
    "    \n",
    "positive = percentage(positive, noOfTweet)\n",
    "negative = percentage(negative, noOfTweet)\n",
    "neutral = percentage(neutral, noOfTweet)\n",
    "polarity = percentage(polarity, noOfTweet)\n",
    "positive = format(positive, '.1f')\n",
    "negative = format(negative, '.1f')\n",
    "neutral = format(neutral, '.1f')"
   ]
  },
  {
   "cell_type": "code",
   "execution_count": null,
   "id": "06871416",
   "metadata": {},
   "outputs": [],
   "source": [
    "tweet_list = pd.DataFrame(tweet_list)\n",
    "tweet_list"
   ]
  },
  {
   "cell_type": "code",
   "execution_count": null,
   "id": "2621c865",
   "metadata": {},
   "outputs": [],
   "source": [
    "tweet_list.columns = [\"Tweets\"]"
   ]
  },
  {
   "cell_type": "code",
   "execution_count": null,
   "id": "60c46622",
   "metadata": {
    "scrolled": true
   },
   "outputs": [],
   "source": []
  },
  {
   "cell_type": "code",
   "execution_count": null,
   "id": "2d821bfb",
   "metadata": {},
   "outputs": [],
   "source": []
  },
  {
   "cell_type": "code",
   "execution_count": null,
   "id": "5d1d8989",
   "metadata": {},
   "outputs": [],
   "source": [
    "tweet_list['Tweets'] = tweet_list['Tweets'].apply(clean_tweet)"
   ]
  },
  {
   "cell_type": "code",
   "execution_count": null,
   "id": "37386669",
   "metadata": {},
   "outputs": [],
   "source": [
    "tweet_list[\"Tweets\"][3]"
   ]
  },
  {
   "cell_type": "code",
   "execution_count": null,
   "id": "65259a26",
   "metadata": {},
   "outputs": [],
   "source": [
    "tweet_list"
   ]
  },
  {
   "cell_type": "code",
   "execution_count": null,
   "id": "b6f2a8b0",
   "metadata": {},
   "outputs": [],
   "source": [
    "import emoji\n",
    "import spacy\n",
    "import stop_words\n",
    "\n",
    "nlp = spacy.load('en_core_web_sm')\n",
    "\n",
    "stopwords = [w.lower() for w in stop_words.get_stop_words('en')]\n",
    "\n",
    "emoticon_string = r\"\"\"\n",
    "    (?:\n",
    "      [<>]?\n",
    "      [:;=8]                     # eyes\n",
    "      [\\-o\\*\\']?                 # optional nose\n",
    "      [\\)\\]\\(\\[dDpP/\\:\\}\\{@\\|\\\\] # mouth      \n",
    "      |\n",
    "      [\\)\\]\\(\\[dDpP/\\:\\}\\{@\\|\\\\] # mouth\n",
    "      [\\-o\\*\\']?                 # optional nose\n",
    "      [:;=8]                     # eyes\n",
    "      [<>]?\n",
    "    )\"\"\"\n",
    "\n",
    "def give_emoji_free_text(text): \n",
    "    return emoji.get_emoji_regexp().sub(r'', text)\n",
    "\n",
    "def sanitize(text):\n",
    "    \"\"\" Sanitize one string \"\"\"\n",
    "\n",
    "    # remove graphical emoji\n",
    "    string = give_emoji_free_text(string) \n",
    "\n",
    "    \n",
    "    return text"
   ]
  },
  {
   "cell_type": "code",
   "execution_count": null,
   "id": "05a1b23a",
   "metadata": {},
   "outputs": [],
   "source": [
    "tweet_list['Tweets'] = sanitize(tweet_list['Tweets'])"
   ]
  },
  {
   "cell_type": "code",
   "execution_count": null,
   "id": "5f0c499a",
   "metadata": {},
   "outputs": [],
   "source": []
  },
  {
   "cell_type": "code",
   "execution_count": null,
   "id": "aa004364",
   "metadata": {},
   "outputs": [],
   "source": [
    "# combine all tweets into one list\n",
    "for i in list(tweet_list): \n",
    "    text = tweet_list[i].tolist()"
   ]
  },
  {
   "cell_type": "code",
   "execution_count": null,
   "id": "597c438e",
   "metadata": {},
   "outputs": [],
   "source": [
    "# combine into one string\n",
    "text = ' '.join(text)"
   ]
  },
  {
   "cell_type": "code",
   "execution_count": null,
   "id": "ce965993",
   "metadata": {},
   "outputs": [],
   "source": []
  },
  {
   "cell_type": "code",
   "execution_count": null,
   "id": "0c282b4d",
   "metadata": {},
   "outputs": [],
   "source": [
    "# # combine into one string\n",
    "# text_string = ''\n",
    "# for x in text:\n",
    "#     text_string += ' ' + x"
   ]
  },
  {
   "cell_type": "code",
   "execution_count": null,
   "id": "0ba23cb5",
   "metadata": {},
   "outputs": [],
   "source": []
  },
  {
   "cell_type": "code",
   "execution_count": null,
   "id": "0e30f720",
   "metadata": {},
   "outputs": [],
   "source": [
    "# Sentence Tokenization\n",
    "tokenized_text=sent_tokenize(text)\n",
    "print(tokenized_text)"
   ]
  },
  {
   "cell_type": "code",
   "execution_count": null,
   "id": "333ddce1",
   "metadata": {},
   "outputs": [],
   "source": [
    "from nltk.tokenize import word_tokenize\n",
    "tokenized_word=word_tokenize(text)\n",
    "print(tokenized_word)"
   ]
  },
  {
   "cell_type": "code",
   "execution_count": null,
   "id": "9412d472",
   "metadata": {},
   "outputs": [],
   "source": [
    "# Frequency Distribution\n",
    "from nltk.probability import FreqDist\n",
    "fdist = FreqDist(tokenized_word)\n",
    "print(fdist)"
   ]
  },
  {
   "cell_type": "code",
   "execution_count": null,
   "id": "e5c1e130",
   "metadata": {},
   "outputs": [],
   "source": [
    "fdist.most_common(10)"
   ]
  },
  {
   "cell_type": "code",
   "execution_count": null,
   "id": "20960239",
   "metadata": {},
   "outputs": [],
   "source": [
    "# Frequency Distribution Plot\n",
    "import matplotlib.pyplot as plt\n",
    "fdist.plot(30,cumulative=False)\n",
    "plt.show()"
   ]
  },
  {
   "cell_type": "code",
   "execution_count": null,
   "id": "f9dc6227",
   "metadata": {},
   "outputs": [],
   "source": []
  },
  {
   "cell_type": "code",
   "execution_count": null,
   "id": "be42d130",
   "metadata": {},
   "outputs": [],
   "source": [
    "# Stopwords- considered as noise in the text."
   ]
  },
  {
   "cell_type": "code",
   "execution_count": null,
   "id": "818b0dc6",
   "metadata": {},
   "outputs": [],
   "source": [
    "from nltk.corpus import stopwords\n",
    "stop_words=set(stopwords.words(\"english\"))\n",
    "print(stop_words)"
   ]
  },
  {
   "cell_type": "code",
   "execution_count": null,
   "id": "61dde1b3",
   "metadata": {},
   "outputs": [],
   "source": [
    "# Removing Stopwords\n",
    "filtered_sent=[]\n",
    "for w in tokenized_word:\n",
    "    if w not in stop_words:\n",
    "        filtered_sent.append(w)\n",
    "print(\"Tokenized Sentence:\",tokenized_word)\n",
    "print(\"Filterd Sentence:\",filtered_sent)"
   ]
  },
  {
   "cell_type": "code",
   "execution_count": null,
   "id": "8ffb475e",
   "metadata": {},
   "outputs": [],
   "source": []
  },
  {
   "cell_type": "code",
   "execution_count": null,
   "id": "c2bb7999",
   "metadata": {},
   "outputs": [],
   "source": [
    "# Stemming - reduces words to their word root word"
   ]
  },
  {
   "cell_type": "code",
   "execution_count": null,
   "id": "10c217b3",
   "metadata": {},
   "outputs": [],
   "source": [
    "# Stemming\n",
    "from nltk.stem import PorterStemmer\n",
    "from nltk.tokenize import sent_tokenize, word_tokenize\n",
    "\n",
    "ps = PorterStemmer()\n",
    "\n",
    "stemmed_words=[]\n",
    "for w in filtered_sent:\n",
    "    stemmed_words.append(ps.stem(w))\n",
    "\n",
    "print(\"Filtered Sentence:\",filtered_sent)\n",
    "print(\"Stemmed Sentence:\",stemmed_words)"
   ]
  },
  {
   "cell_type": "code",
   "execution_count": null,
   "id": "3c316641",
   "metadata": {},
   "outputs": [],
   "source": []
  },
  {
   "cell_type": "code",
   "execution_count": null,
   "id": "3820a1b2",
   "metadata": {},
   "outputs": [],
   "source": [
    "#Lemmatization - reduces words to their base word"
   ]
  },
  {
   "cell_type": "code",
   "execution_count": null,
   "id": "a89efd63",
   "metadata": {},
   "outputs": [],
   "source": [
    "# from nltk.stem.wordnet import WordNetLemmatizer\n",
    "# lem = WordNetLemmatizer()\n",
    "\n",
    "# from nltk.stem.porter import PorterStemmer\n",
    "# stem = PorterStemmer()\n",
    "\n",
    "# word = \"flying\"\n",
    "# print(\"Lemmatized Word:\",lem.lemmatize(word,\"v\"))\n",
    "# print(\"Stemmed Word:\",stem.stem(word))"
   ]
  },
  {
   "cell_type": "code",
   "execution_count": null,
   "id": "9dda6b86",
   "metadata": {},
   "outputs": [],
   "source": []
  },
  {
   "cell_type": "code",
   "execution_count": null,
   "id": "5af73638",
   "metadata": {},
   "outputs": [],
   "source": []
  },
  {
   "cell_type": "code",
   "execution_count": null,
   "id": "9f50782c",
   "metadata": {},
   "outputs": [],
   "source": [
    "# Sentiment analysis"
   ]
  },
  {
   "cell_type": "code",
   "execution_count": null,
   "id": "90d56cb4",
   "metadata": {},
   "outputs": [],
   "source": [
    "text.Sentiment.value_counts()"
   ]
  },
  {
   "cell_type": "code",
   "execution_count": null,
   "id": "eeee764b",
   "metadata": {},
   "outputs": [],
   "source": []
  },
  {
   "cell_type": "code",
   "execution_count": null,
   "id": "9c71135f",
   "metadata": {},
   "outputs": [],
   "source": []
  },
  {
   "cell_type": "code",
   "execution_count": null,
   "id": "fcedc8cc",
   "metadata": {},
   "outputs": [],
   "source": []
  }
 ],
 "metadata": {
  "kernelspec": {
   "display_name": "Python 3",
   "language": "python",
   "name": "python3"
  },
  "language_info": {
   "codemirror_mode": {
    "name": "ipython",
    "version": 3
   },
   "file_extension": ".py",
   "mimetype": "text/x-python",
   "name": "python",
   "nbconvert_exporter": "python",
   "pygments_lexer": "ipython3",
   "version": "3.8.2"
  }
 },
 "nbformat": 4,
 "nbformat_minor": 5
}
