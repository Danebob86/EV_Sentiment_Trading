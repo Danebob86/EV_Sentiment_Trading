{
 "cells": [
  {
   "cell_type": "code",
   "execution_count": 59,
   "metadata": {},
   "outputs": [],
   "source": [
    "# Twitter Sentiment Analysis"
   ]
  },
  {
   "cell_type": "code",
   "execution_count": 2,
   "metadata": {},
   "outputs": [],
   "source": [
    "# Import Libraries\n",
    "\n",
    "import tweepy\n",
    "from textblob import TextBlob\n",
    "from wordcloud import WordCloud\n",
    "from nltk.sentiment.vader import SentimentIntensityAnalyzer\n",
    "import pandas as pd\n",
    "import numpy as np\n",
    "import re\n",
    "import os\n",
    "import matplotlib.pyplot as plt\n",
    "from dotenv import load_dotenv\n",
    "plt.style.use('fivethirtyeight')\n",
    "\n",
    "import nltk\n",
    "from nltk.tokenize import sent_tokenize"
   ]
  },
  {
   "cell_type": "code",
   "execution_count": 3,
   "metadata": {},
   "outputs": [
    {
     "data": {
      "text/plain": [
       "True"
      ]
     },
     "execution_count": 3,
     "metadata": {},
     "output_type": "execute_result"
    }
   ],
   "source": [
    "load_dotenv()"
   ]
  },
  {
   "cell_type": "code",
   "execution_count": 11,
   "metadata": {},
   "outputs": [],
   "source": [
    "#Get the API credentials from env\n",
    "consumer_key = os.getenv('API_KEY')\n",
    "consumer_secret_key = os.getenv('API_KEY')\n",
    "access_token = os.getenv('API_KEY')\n",
    "access_token_secret = os.getenv('API_KEY')\n",
    "\n",
    "#Create the authentication object\n",
    "auth = tweepy.OAuthHandler(consumer_key, consumer_secret_key)\n",
    "\n",
    "#Set the access token and access token secret\n",
    "auth.set_access_token(access_token, access_token_secret)\n",
    "\n",
    "#Create the API object while passing in the auth information\n",
    "#api = tweepy.API(authenticate, wait_on_rate_limit = True)\n",
    "api = tweepy.API(auth)"
   ]
  },
  {
   "cell_type": "code",
   "execution_count": 5,
   "metadata": {},
   "outputs": [
    {
     "data": {
      "text/plain": [
       "NoneType"
      ]
     },
     "execution_count": 5,
     "metadata": {},
     "output_type": "execute_result"
    }
   ],
   "source": [
    "type(consumer_key)"
   ]
  },
  {
   "cell_type": "code",
   "execution_count": 6,
   "metadata": {},
   "outputs": [
    {
     "data": {
      "text/plain": [
       "NoneType"
      ]
     },
     "execution_count": 6,
     "metadata": {},
     "output_type": "execute_result"
    }
   ],
   "source": [
    "type(consumer_secret_key)"
   ]
  },
  {
   "cell_type": "code",
   "execution_count": 7,
   "metadata": {},
   "outputs": [
    {
     "data": {
      "text/plain": [
       "NoneType"
      ]
     },
     "execution_count": 7,
     "metadata": {},
     "output_type": "execute_result"
    }
   ],
   "source": [
    "type(access_token)"
   ]
  },
  {
   "cell_type": "code",
   "execution_count": 8,
   "metadata": {},
   "outputs": [
    {
     "data": {
      "text/plain": [
       "NoneType"
      ]
     },
     "execution_count": 8,
     "metadata": {},
     "output_type": "execute_result"
    }
   ],
   "source": [
    "type(access_token_secret)"
   ]
  },
  {
   "cell_type": "code",
   "execution_count": 9,
   "metadata": {},
   "outputs": [
    {
     "name": "stdout",
     "output_type": "stream",
     "text": [
      "Please enter keyword or hashtag to search: \n",
      "Number of tweets to analyze: \n"
     ]
    },
    {
     "ename": "ValueError",
     "evalue": "invalid literal for int() with base 10: ''",
     "output_type": "error",
     "traceback": [
      "\u001b[0;31m---------------------------------------------------------------------------\u001b[0m",
      "\u001b[0;31mValueError\u001b[0m                                Traceback (most recent call last)",
      "\u001b[0;32m<ipython-input-9-4e8ebf733519>\u001b[0m in \u001b[0;36m<module>\u001b[0;34m\u001b[0m\n\u001b[1;32m      3\u001b[0m \u001b[0;34m\u001b[0m\u001b[0m\n\u001b[1;32m      4\u001b[0m \u001b[0mkeyword\u001b[0m \u001b[0;34m=\u001b[0m \u001b[0minput\u001b[0m\u001b[0;34m(\u001b[0m\u001b[0;34m\"Please enter keyword or hashtag to search: \"\u001b[0m\u001b[0;34m)\u001b[0m\u001b[0;34m\u001b[0m\u001b[0;34m\u001b[0m\u001b[0m\n\u001b[0;32m----> 5\u001b[0;31m \u001b[0mnoOfTweet\u001b[0m \u001b[0;34m=\u001b[0m \u001b[0mint\u001b[0m\u001b[0;34m(\u001b[0m\u001b[0minput\u001b[0m \u001b[0;34m(\u001b[0m\u001b[0;34m\"Number of tweets to analyze: \"\u001b[0m\u001b[0;34m)\u001b[0m\u001b[0;34m)\u001b[0m\u001b[0;34m\u001b[0m\u001b[0;34m\u001b[0m\u001b[0m\n\u001b[0m\u001b[1;32m      6\u001b[0m \u001b[0;34m\u001b[0m\u001b[0m\n\u001b[1;32m      7\u001b[0m \u001b[0mtweets\u001b[0m \u001b[0;34m=\u001b[0m \u001b[0mtweepy\u001b[0m\u001b[0;34m.\u001b[0m\u001b[0mCursor\u001b[0m\u001b[0;34m(\u001b[0m\u001b[0mapi\u001b[0m\u001b[0;34m.\u001b[0m\u001b[0msearch\u001b[0m\u001b[0;34m,\u001b[0m \u001b[0mq\u001b[0m\u001b[0;34m=\u001b[0m\u001b[0mkeyword\u001b[0m\u001b[0;34m,\u001b[0m \u001b[0mkeyword\u001b[0m \u001b[0;34m=\u001b[0m \u001b[0mkeyword\u001b[0m \u001b[0;34m+\u001b[0m \u001b[0;34m\" -filter:retweets\"\u001b[0m\u001b[0;34m,\u001b[0m \u001b[0mlang\u001b[0m\u001b[0;34m=\u001b[0m\u001b[0;34m\"en\"\u001b[0m\u001b[0;34m,\u001b[0m \u001b[0;34m)\u001b[0m\u001b[0;34m.\u001b[0m\u001b[0mitems\u001b[0m\u001b[0;34m(\u001b[0m\u001b[0mnoOfTweet\u001b[0m\u001b[0;34m)\u001b[0m\u001b[0;34m\u001b[0m\u001b[0;34m\u001b[0m\u001b[0m\n",
      "\u001b[0;31mValueError\u001b[0m: invalid literal for int() with base 10: ''"
     ]
    }
   ],
   "source": [
    "def percentage(part,whole):\n",
    "    return 100 * float(part)/float(whole)\n",
    "    \n",
    "keyword = input(\"Please enter keyword or hashtag to search: \")\n",
    "noOfTweet = int(input (\"Number of tweets to analyze: \"))\n",
    "\n",
    "tweets = tweepy.Cursor(api.search, q=keyword, keyword = keyword + \" -filter:retweets\", lang=\"en\", ).items(noOfTweet)\n",
    "positive = 0\n",
    "negative = 0\n",
    "neutral = 0\n",
    "polarity = 0\n",
    "tweet_list = []\n",
    "neutral_list = []\n",
    "negative_list = []\n",
    "positive_list = []\n",
    "\n",
    "\n",
    "\n",
    "# Sentiment Analysis\n",
    "for tweet in tweets:\n",
    "    tweet_list.append(tweet.text)\n",
    "    analysis = TextBlob(tweet.text)\n",
    "    score = SentimentIntensityAnalyzer().polarity_scores(tweet.text)\n",
    "    neg = score['neg']\n",
    "    neu = score['neu']\n",
    "    pos = score['pos']\n",
    "    comp = score['compound']\n",
    "    polarity += analysis.sentiment.polarity\n",
    " \n",
    "    if neg > pos:\n",
    "        negative_list.append(tweet.text)\n",
    "        negative += 1\n",
    "    elif pos > neg:\n",
    "        positive_list.append(tweet.text)\n",
    "        positive += 1\n",
    " \n",
    "    elif pos == neg:\n",
    "        neutral_list.append(tweet.text)\n",
    "        neutral += 1\n",
    "        \n",
    "# Set the sentiment variables as sentiment of tweet  \n",
    "    \n",
    "positive = percentage(positive, noOfTweet)\n",
    "negative = percentage(negative, noOfTweet)\n",
    "neutral = percentage(neutral, noOfTweet)\n",
    "polarity = percentage(polarity, noOfTweet)\n",
    "positive = format(positive, '.1f')\n",
    "negative = format(negative, '.1f')\n",
    "neutral = format(neutral, '.1f')"
   ]
  },
  {
   "cell_type": "code",
   "execution_count": 10,
   "metadata": {},
   "outputs": [
    {
     "ename": "NameError",
     "evalue": "name 'tweet_list' is not defined",
     "output_type": "error",
     "traceback": [
      "\u001b[0;31m---------------------------------------------------------------------------\u001b[0m",
      "\u001b[0;31mNameError\u001b[0m                                 Traceback (most recent call last)",
      "\u001b[0;32m<ipython-input-10-c7c1b39cfb6d>\u001b[0m in \u001b[0;36m<module>\u001b[0;34m\u001b[0m\n\u001b[0;32m----> 1\u001b[0;31m \u001b[0mtweet_list\u001b[0m \u001b[0;34m=\u001b[0m \u001b[0mpd\u001b[0m\u001b[0;34m.\u001b[0m\u001b[0mDataFrame\u001b[0m\u001b[0;34m(\u001b[0m\u001b[0mtweet_list\u001b[0m\u001b[0;34m)\u001b[0m\u001b[0;34m\u001b[0m\u001b[0;34m\u001b[0m\u001b[0m\n\u001b[0m\u001b[1;32m      2\u001b[0m \u001b[0mtweet_list\u001b[0m\u001b[0;34m\u001b[0m\u001b[0;34m\u001b[0m\u001b[0m\n",
      "\u001b[0;31mNameError\u001b[0m: name 'tweet_list' is not defined"
     ]
    }
   ],
   "source": [
    "tweet_list = pd.DataFrame(tweet_list)\n",
    "tweet_list"
   ]
  },
  {
   "cell_type": "code",
   "execution_count": 140,
   "metadata": {},
   "outputs": [
    {
     "ename": "NameError",
     "evalue": "name 'tweet_list' is not defined",
     "output_type": "error",
     "traceback": [
      "\u001b[0;31m---------------------------------------------------------------------------\u001b[0m",
      "\u001b[0;31mNameError\u001b[0m                                 Traceback (most recent call last)",
      "\u001b[0;32m<ipython-input-140-67c67bcd11cc>\u001b[0m in \u001b[0;36m<module>\u001b[0;34m\u001b[0m\n\u001b[0;32m----> 1\u001b[0;31m \u001b[0mtweet_list\u001b[0m\u001b[0;34m.\u001b[0m\u001b[0mcolumns\u001b[0m \u001b[0;34m=\u001b[0m \u001b[0;34m[\u001b[0m\u001b[0;34m\"Tweets\"\u001b[0m\u001b[0;34m]\u001b[0m\u001b[0;34m\u001b[0m\u001b[0;34m\u001b[0m\u001b[0m\n\u001b[0m",
      "\u001b[0;31mNameError\u001b[0m: name 'tweet_list' is not defined"
     ]
    }
   ],
   "source": [
    "tweet_list.columns = [\"Tweets\"]"
   ]
  },
  {
   "cell_type": "code",
   "execution_count": 141,
   "metadata": {
    "scrolled": true
   },
   "outputs": [
    {
     "ename": "NameError",
     "evalue": "name 'tweet_list' is not defined",
     "output_type": "error",
     "traceback": [
      "\u001b[0;31m---------------------------------------------------------------------------\u001b[0m",
      "\u001b[0;31mNameError\u001b[0m                                 Traceback (most recent call last)",
      "\u001b[0;32m<ipython-input-141-31771654eb4e>\u001b[0m in \u001b[0;36m<module>\u001b[0;34m\u001b[0m\n\u001b[0;32m----> 1\u001b[0;31m \u001b[0mtweet_list\u001b[0m\u001b[0;34m\u001b[0m\u001b[0;34m\u001b[0m\u001b[0m\n\u001b[0m",
      "\u001b[0;31mNameError\u001b[0m: name 'tweet_list' is not defined"
     ]
    }
   ],
   "source": [
    "tweet_list"
   ]
  },
  {
   "cell_type": "code",
   "execution_count": 142,
   "metadata": {},
   "outputs": [],
   "source": [
    "def clean_tweet(text):\n",
    "    text = re.sub(r'@[A-Za-z0-9]+', '', text) # Remove @mentions\n",
    "    text = re.sub(r'#', '', text)  # Remove # symbol\n",
    "    text = re.sub(r'RT[\\s]+','', text) # Remove RT\n",
    "    text = re.sub(r'https?:\\/\\/\\S+', '', text) # Remove hyperlink\n",
    "    text = re.sub(r':','', text)\n",
    "    return text"
   ]
  },
  {
   "cell_type": "code",
   "execution_count": 143,
   "metadata": {},
   "outputs": [
    {
     "ename": "NameError",
     "evalue": "name 'tweet_list' is not defined",
     "output_type": "error",
     "traceback": [
      "\u001b[0;31m---------------------------------------------------------------------------\u001b[0m",
      "\u001b[0;31mNameError\u001b[0m                                 Traceback (most recent call last)",
      "\u001b[0;32m<ipython-input-143-d1129834f978>\u001b[0m in \u001b[0;36m<module>\u001b[0;34m\u001b[0m\n\u001b[0;32m----> 1\u001b[0;31m \u001b[0mtweet_list\u001b[0m\u001b[0;34m[\u001b[0m\u001b[0;34m'Tweets'\u001b[0m\u001b[0;34m]\u001b[0m \u001b[0;34m=\u001b[0m \u001b[0mtweet_list\u001b[0m\u001b[0;34m[\u001b[0m\u001b[0;34m'Tweets'\u001b[0m\u001b[0;34m]\u001b[0m\u001b[0;34m.\u001b[0m\u001b[0mapply\u001b[0m\u001b[0;34m(\u001b[0m\u001b[0mclean_tweet\u001b[0m\u001b[0;34m)\u001b[0m\u001b[0;34m\u001b[0m\u001b[0;34m\u001b[0m\u001b[0m\n\u001b[0m",
      "\u001b[0;31mNameError\u001b[0m: name 'tweet_list' is not defined"
     ]
    }
   ],
   "source": [
    "tweet_list['Tweets'] = tweet_list['Tweets'].apply(clean_tweet)"
   ]
  },
  {
   "cell_type": "code",
   "execution_count": 144,
   "metadata": {},
   "outputs": [
    {
     "ename": "NameError",
     "evalue": "name 'tweet_list' is not defined",
     "output_type": "error",
     "traceback": [
      "\u001b[0;31m---------------------------------------------------------------------------\u001b[0m",
      "\u001b[0;31mNameError\u001b[0m                                 Traceback (most recent call last)",
      "\u001b[0;32m<ipython-input-144-31771654eb4e>\u001b[0m in \u001b[0;36m<module>\u001b[0;34m\u001b[0m\n\u001b[0;32m----> 1\u001b[0;31m \u001b[0mtweet_list\u001b[0m\u001b[0;34m\u001b[0m\u001b[0;34m\u001b[0m\u001b[0m\n\u001b[0m",
      "\u001b[0;31mNameError\u001b[0m: name 'tweet_list' is not defined"
     ]
    }
   ],
   "source": [
    "tweet_list"
   ]
  },
  {
   "cell_type": "code",
   "execution_count": 145,
   "metadata": {},
   "outputs": [
    {
     "ename": "NameError",
     "evalue": "name 'tweet_list' is not defined",
     "output_type": "error",
     "traceback": [
      "\u001b[0;31m---------------------------------------------------------------------------\u001b[0m",
      "\u001b[0;31mNameError\u001b[0m                                 Traceback (most recent call last)",
      "\u001b[0;32m<ipython-input-145-75a458c8dfe7>\u001b[0m in \u001b[0;36m<module>\u001b[0;34m\u001b[0m\n\u001b[1;32m      1\u001b[0m \u001b[0;31m# combine all tweets into one list\u001b[0m\u001b[0;34m\u001b[0m\u001b[0;34m\u001b[0m\u001b[0;34m\u001b[0m\u001b[0m\n\u001b[0;32m----> 2\u001b[0;31m \u001b[0;32mfor\u001b[0m \u001b[0mi\u001b[0m \u001b[0;32min\u001b[0m \u001b[0mlist\u001b[0m\u001b[0;34m(\u001b[0m\u001b[0mtweet_list\u001b[0m\u001b[0;34m)\u001b[0m\u001b[0;34m:\u001b[0m\u001b[0;34m\u001b[0m\u001b[0;34m\u001b[0m\u001b[0m\n\u001b[0m\u001b[1;32m      3\u001b[0m     \u001b[0mtext\u001b[0m \u001b[0;34m=\u001b[0m \u001b[0mtweet_list\u001b[0m\u001b[0;34m[\u001b[0m\u001b[0mi\u001b[0m\u001b[0;34m]\u001b[0m\u001b[0;34m.\u001b[0m\u001b[0mtolist\u001b[0m\u001b[0;34m(\u001b[0m\u001b[0;34m)\u001b[0m\u001b[0;34m\u001b[0m\u001b[0;34m\u001b[0m\u001b[0m\n",
      "\u001b[0;31mNameError\u001b[0m: name 'tweet_list' is not defined"
     ]
    }
   ],
   "source": [
    "# combine all tweets into one list\n",
    "for i in list(tweet_list): \n",
    "    text = tweet_list[i].tolist()"
   ]
  },
  {
   "cell_type": "code",
   "execution_count": 124,
   "metadata": {},
   "outputs": [
    {
     "ename": "NameError",
     "evalue": "name 'text' is not defined",
     "output_type": "error",
     "traceback": [
      "\u001b[0;31m---------------------------------------------------------------------------\u001b[0m",
      "\u001b[0;31mNameError\u001b[0m                                 Traceback (most recent call last)",
      "\u001b[0;32m<ipython-input-124-ca8d0233a21b>\u001b[0m in \u001b[0;36m<module>\u001b[0;34m\u001b[0m\n\u001b[1;32m      1\u001b[0m \u001b[0;31m# combine into one string\u001b[0m\u001b[0;34m\u001b[0m\u001b[0;34m\u001b[0m\u001b[0;34m\u001b[0m\u001b[0m\n\u001b[0;32m----> 2\u001b[0;31m \u001b[0mtext\u001b[0m \u001b[0;34m=\u001b[0m \u001b[0;34m' '\u001b[0m\u001b[0;34m.\u001b[0m\u001b[0mjoin\u001b[0m\u001b[0;34m(\u001b[0m\u001b[0mtext\u001b[0m\u001b[0;34m)\u001b[0m\u001b[0;34m\u001b[0m\u001b[0;34m\u001b[0m\u001b[0m\n\u001b[0m",
      "\u001b[0;31mNameError\u001b[0m: name 'text' is not defined"
     ]
    }
   ],
   "source": [
    "# combine into one string\n",
    "text = ' '.join(text)"
   ]
  },
  {
   "cell_type": "code",
   "execution_count": null,
   "metadata": {},
   "outputs": [],
   "source": []
  },
  {
   "cell_type": "code",
   "execution_count": 25,
   "metadata": {},
   "outputs": [],
   "source": [
    "# # combine into one string\n",
    "# text_string = ''\n",
    "# for x in text:\n",
    "#     text_string += ' ' + x"
   ]
  },
  {
   "cell_type": "code",
   "execution_count": null,
   "metadata": {},
   "outputs": [],
   "source": []
  },
  {
   "cell_type": "code",
   "execution_count": 26,
   "metadata": {},
   "outputs": [
    {
     "ename": "NameError",
     "evalue": "name 'text' is not defined",
     "output_type": "error",
     "traceback": [
      "\u001b[0;31m---------------------------------------------------------------------------\u001b[0m",
      "\u001b[0;31mNameError\u001b[0m                                 Traceback (most recent call last)",
      "\u001b[0;32m<ipython-input-26-92f5db33fdbf>\u001b[0m in \u001b[0;36m<module>\u001b[0;34m\u001b[0m\n\u001b[1;32m      1\u001b[0m \u001b[0;31m# Sentence Tokenization\u001b[0m\u001b[0;34m\u001b[0m\u001b[0;34m\u001b[0m\u001b[0;34m\u001b[0m\u001b[0m\n\u001b[0;32m----> 2\u001b[0;31m \u001b[0mtokenized_text\u001b[0m\u001b[0;34m=\u001b[0m\u001b[0msent_tokenize\u001b[0m\u001b[0;34m(\u001b[0m\u001b[0mtext\u001b[0m\u001b[0;34m)\u001b[0m\u001b[0;34m\u001b[0m\u001b[0;34m\u001b[0m\u001b[0m\n\u001b[0m\u001b[1;32m      3\u001b[0m \u001b[0mprint\u001b[0m\u001b[0;34m(\u001b[0m\u001b[0mtokenized_text\u001b[0m\u001b[0;34m)\u001b[0m\u001b[0;34m\u001b[0m\u001b[0;34m\u001b[0m\u001b[0m\n",
      "\u001b[0;31mNameError\u001b[0m: name 'text' is not defined"
     ]
    }
   ],
   "source": [
    "# Sentence Tokenization\n",
    "tokenized_text=sent_tokenize(text)\n",
    "print(tokenized_text)"
   ]
  },
  {
   "cell_type": "code",
   "execution_count": 27,
   "metadata": {},
   "outputs": [
    {
     "ename": "NameError",
     "evalue": "name 'text' is not defined",
     "output_type": "error",
     "traceback": [
      "\u001b[0;31m---------------------------------------------------------------------------\u001b[0m",
      "\u001b[0;31mNameError\u001b[0m                                 Traceback (most recent call last)",
      "\u001b[0;32m<ipython-input-27-54d9f444b161>\u001b[0m in \u001b[0;36m<module>\u001b[0;34m\u001b[0m\n\u001b[1;32m      1\u001b[0m \u001b[0;32mfrom\u001b[0m \u001b[0mnltk\u001b[0m\u001b[0;34m.\u001b[0m\u001b[0mtokenize\u001b[0m \u001b[0;32mimport\u001b[0m \u001b[0mword_tokenize\u001b[0m\u001b[0;34m\u001b[0m\u001b[0;34m\u001b[0m\u001b[0m\n\u001b[0;32m----> 2\u001b[0;31m \u001b[0mtokenized_word\u001b[0m\u001b[0;34m=\u001b[0m\u001b[0mword_tokenize\u001b[0m\u001b[0;34m(\u001b[0m\u001b[0mtext\u001b[0m\u001b[0;34m)\u001b[0m\u001b[0;34m\u001b[0m\u001b[0;34m\u001b[0m\u001b[0m\n\u001b[0m\u001b[1;32m      3\u001b[0m \u001b[0mprint\u001b[0m\u001b[0;34m(\u001b[0m\u001b[0mtokenized_word\u001b[0m\u001b[0;34m)\u001b[0m\u001b[0;34m\u001b[0m\u001b[0;34m\u001b[0m\u001b[0m\n",
      "\u001b[0;31mNameError\u001b[0m: name 'text' is not defined"
     ]
    }
   ],
   "source": [
    "from nltk.tokenize import word_tokenize\n",
    "tokenized_word=word_tokenize(text)\n",
    "print(tokenized_word)"
   ]
  },
  {
   "cell_type": "code",
   "execution_count": 28,
   "metadata": {},
   "outputs": [
    {
     "ename": "NameError",
     "evalue": "name 'tokenized_word' is not defined",
     "output_type": "error",
     "traceback": [
      "\u001b[0;31m---------------------------------------------------------------------------\u001b[0m",
      "\u001b[0;31mNameError\u001b[0m                                 Traceback (most recent call last)",
      "\u001b[0;32m<ipython-input-28-a6b96a589b82>\u001b[0m in \u001b[0;36m<module>\u001b[0;34m\u001b[0m\n\u001b[1;32m      1\u001b[0m \u001b[0;31m# Frequency Distribution\u001b[0m\u001b[0;34m\u001b[0m\u001b[0;34m\u001b[0m\u001b[0;34m\u001b[0m\u001b[0m\n\u001b[1;32m      2\u001b[0m \u001b[0;32mfrom\u001b[0m \u001b[0mnltk\u001b[0m\u001b[0;34m.\u001b[0m\u001b[0mprobability\u001b[0m \u001b[0;32mimport\u001b[0m \u001b[0mFreqDist\u001b[0m\u001b[0;34m\u001b[0m\u001b[0;34m\u001b[0m\u001b[0m\n\u001b[0;32m----> 3\u001b[0;31m \u001b[0mfdist\u001b[0m \u001b[0;34m=\u001b[0m \u001b[0mFreqDist\u001b[0m\u001b[0;34m(\u001b[0m\u001b[0mtokenized_word\u001b[0m\u001b[0;34m)\u001b[0m\u001b[0;34m\u001b[0m\u001b[0;34m\u001b[0m\u001b[0m\n\u001b[0m\u001b[1;32m      4\u001b[0m \u001b[0mprint\u001b[0m\u001b[0;34m(\u001b[0m\u001b[0mfdist\u001b[0m\u001b[0;34m)\u001b[0m\u001b[0;34m\u001b[0m\u001b[0;34m\u001b[0m\u001b[0m\n",
      "\u001b[0;31mNameError\u001b[0m: name 'tokenized_word' is not defined"
     ]
    }
   ],
   "source": [
    "# Frequency Distribution\n",
    "from nltk.probability import FreqDist\n",
    "fdist = FreqDist(tokenized_word)\n",
    "print(fdist)"
   ]
  },
  {
   "cell_type": "code",
   "execution_count": 29,
   "metadata": {},
   "outputs": [
    {
     "ename": "NameError",
     "evalue": "name 'fdist' is not defined",
     "output_type": "error",
     "traceback": [
      "\u001b[0;31m---------------------------------------------------------------------------\u001b[0m",
      "\u001b[0;31mNameError\u001b[0m                                 Traceback (most recent call last)",
      "\u001b[0;32m<ipython-input-29-c06dc653928c>\u001b[0m in \u001b[0;36m<module>\u001b[0;34m\u001b[0m\n\u001b[0;32m----> 1\u001b[0;31m \u001b[0mfdist\u001b[0m\u001b[0;34m.\u001b[0m\u001b[0mmost_common\u001b[0m\u001b[0;34m(\u001b[0m\u001b[0;36m10\u001b[0m\u001b[0;34m)\u001b[0m\u001b[0;34m\u001b[0m\u001b[0;34m\u001b[0m\u001b[0m\n\u001b[0m",
      "\u001b[0;31mNameError\u001b[0m: name 'fdist' is not defined"
     ]
    }
   ],
   "source": [
    "fdist.most_common(10)"
   ]
  },
  {
   "cell_type": "code",
   "execution_count": 30,
   "metadata": {},
   "outputs": [
    {
     "ename": "NameError",
     "evalue": "name 'fdist' is not defined",
     "output_type": "error",
     "traceback": [
      "\u001b[0;31m---------------------------------------------------------------------------\u001b[0m",
      "\u001b[0;31mNameError\u001b[0m                                 Traceback (most recent call last)",
      "\u001b[0;32m<ipython-input-30-11d2a5648fb1>\u001b[0m in \u001b[0;36m<module>\u001b[0;34m\u001b[0m\n\u001b[1;32m      1\u001b[0m \u001b[0;31m# Frequency Distribution Plot\u001b[0m\u001b[0;34m\u001b[0m\u001b[0;34m\u001b[0m\u001b[0;34m\u001b[0m\u001b[0m\n\u001b[1;32m      2\u001b[0m \u001b[0;32mimport\u001b[0m \u001b[0mmatplotlib\u001b[0m\u001b[0;34m.\u001b[0m\u001b[0mpyplot\u001b[0m \u001b[0;32mas\u001b[0m \u001b[0mplt\u001b[0m\u001b[0;34m\u001b[0m\u001b[0;34m\u001b[0m\u001b[0m\n\u001b[0;32m----> 3\u001b[0;31m \u001b[0mfdist\u001b[0m\u001b[0;34m.\u001b[0m\u001b[0mplot\u001b[0m\u001b[0;34m(\u001b[0m\u001b[0;36m30\u001b[0m\u001b[0;34m,\u001b[0m\u001b[0mcumulative\u001b[0m\u001b[0;34m=\u001b[0m\u001b[0;32mFalse\u001b[0m\u001b[0;34m)\u001b[0m\u001b[0;34m\u001b[0m\u001b[0;34m\u001b[0m\u001b[0m\n\u001b[0m\u001b[1;32m      4\u001b[0m \u001b[0mplt\u001b[0m\u001b[0;34m.\u001b[0m\u001b[0mshow\u001b[0m\u001b[0;34m(\u001b[0m\u001b[0;34m)\u001b[0m\u001b[0;34m\u001b[0m\u001b[0;34m\u001b[0m\u001b[0m\n",
      "\u001b[0;31mNameError\u001b[0m: name 'fdist' is not defined"
     ]
    }
   ],
   "source": [
    "# Frequency Distribution Plot\n",
    "import matplotlib.pyplot as plt\n",
    "fdist.plot(30,cumulative=False)\n",
    "plt.show()"
   ]
  },
  {
   "cell_type": "code",
   "execution_count": null,
   "metadata": {},
   "outputs": [],
   "source": []
  },
  {
   "cell_type": "code",
   "execution_count": 37,
   "metadata": {},
   "outputs": [],
   "source": [
    "# Stopwords- considered as noise in the text."
   ]
  },
  {
   "cell_type": "code",
   "execution_count": 38,
   "metadata": {},
   "outputs": [
    {
     "name": "stdout",
     "output_type": "stream",
     "text": [
      "{'as', 'needn', 'both', 't', 'haven', \"wasn't\", \"that'll\", 'up', 'any', 'hadn', 'by', 'each', 'hers', \"mustn't\", 'where', \"haven't\", 'then', 'of', 'were', 'who', 'other', 'their', 'll', 'ours', \"should've\", 'few', 'again', 'which', 'had', 'ourselves', \"you'd\", 'did', 'over', 'm', \"wouldn't\", 'mustn', 'our', 'having', 'him', 'he', 'they', 'below', \"couldn't\", 'down', 'be', 'further', \"aren't\", 'those', 'to', 'being', 'very', \"you're\", 'itself', 'there', 'didn', 'this', 'are', 'o', \"you'll\", 'wouldn', 'y', 'her', 'wasn', 'such', \"didn't\", 'off', 'for', 'from', 'here', 's', 'but', 'we', 'do', 'doing', 'hasn', \"isn't\", 'shouldn', 'at', 'have', 'theirs', 'not', 'me', 've', 're', 'mightn', \"shan't\", 'isn', 'yourself', 'will', 'under', 'most', 'now', 'couldn', 'so', 'out', \"it's\", 'himself', 'herself', 'what', 'them', 'after', 'an', 'above', \"won't\", 'been', 'nor', 'yours', 'in', 'these', 'weren', 'while', 'some', 'during', 'it', 'on', 'ma', 'is', 'more', 'how', 'ain', 'i', 'between', 'myself', 'a', 'because', 'once', \"she's\", 'aren', 'yourselves', 'and', 'when', 'd', 'themselves', 'you', 'can', 'why', 'before', 'doesn', 'his', 'until', 'with', 'than', 'or', 'too', 'just', 'same', 'won', 'into', 'does', \"hasn't\", 'am', 'about', \"shouldn't\", \"mightn't\", 'the', 'only', 'through', 'she', \"weren't\", \"hadn't\", 'has', 'if', 'your', \"don't\", 'against', 'no', 'shan', 'don', \"doesn't\", 'that', 'was', 'its', 'all', \"needn't\", 'should', 'my', 'whom', 'own', \"you've\"}\n"
     ]
    }
   ],
   "source": [
    "from nltk.corpus import stopwords\n",
    "stop_words=set(stopwords.words(\"english\"))\n",
    "print(stop_words)"
   ]
  },
  {
   "cell_type": "code",
   "execution_count": 39,
   "metadata": {},
   "outputs": [
    {
     "name": "stdout",
     "output_type": "stream",
     "text": [
      "Tokenized Sentence: ['Roads', '.', 'Bridges', '.', 'Rail', '.', 'Broadband', '.', 'Removing', 'Lead', 'Water', 'Pipes', '.', 'EV', 'Charging', 'Stations', '.', 'Mass', 'Transit', '.', 'Some', 'of', 'the', 'largest', 'inv…', 'FDP', 'doesn', '’', 't', 'generate', 'any', 'real', 'cash', 'and', 'has', 'terrible', 'ROIC', '.', 'Using', 'PF', 'FCF', 'for', 'Dole', ',', 'CROIC', 'is', '10', '%', '-11', '%', 'vs…', 'Roads', '.', 'Bridges', '.', 'Rail', '.', 'Broadband', '.', 'Removing', 'Lead', 'Water', 'Pipes', '.', 'EV', 'Charging', 'Stations', '.', 'Mass', 'Transit', '.', 'Some', 'of', 'the', 'largest', 'inv…', '_Flawed_King', 'I', '’', 'll', 'take', 'Ev', 'to', 'Southern', 'Comfort', 'kitchen', 'and', 'tell', 'them', 'not', 'to', 'season', 'his', 'food', 'No', 'primate', 'wants', 'an', 'EV', '!', 'Museveni', 'invested', '40bn', 'in', 'kiira', 'Ev', '.', 'With', 'there', 'flagship', 'prototype', 'of', 'kayoola', 'Ev', '.', 'This', 'week', 'he', 'launched', 'and', 'awarded', 'a', 'Chin…', 'It', 'looks', 'like', 'EV', '’', 's', 'got', 'hit', 'hard', 'in', 'the', 'bipartisan', 'infrastructure', 'bill', '.', '$', 'TSLA', '.', 'files', 'to', 'trademark', 'six', 'new', 'EV', 'pickup', 'and', 'SUV', 'names', 'There', 'is', 'an', 'American', 'company', 'that', 'makes', 'the', 'best', 'EV', '’', 's', 'on', 'Earth', '.', 'They', 'are', 'going', 't…', '_Hatcher_PBR', '2023', 'Robert', 'Demetree', '-', 'SS', '_Uncommitted', '6', '’', '0', '”', '185', 'lbs', '.', 'Demetree', '’', 's', 'frame', 'has', 'made', 'a', 'jump', 'in', 'the', 'past', 'year', 'adding', 'th…', '_dej2', 'I', '’', 'm', 'singing', 'like', 'a', 'canary', '😭🤣', '_Hatcher_PBR', '2023', 'Drew', 'Reaves', '-', 'SS', '_Uncommitted', '6', '’', '2', '”', '190', 'lbs', '.', 'Athletic', 'frame', ',', 'Reaves', 'works', 'short', 'to', 'the', 'ball', 'w/', 'quick', 'hands', 's…', '_Hatcher_PBR', '2024', 'Jayden', 'Harriel', '-', '3B', '_Uncommitted', '6', '’', '1', '”', '210', 'lbs', '.', 'Physical', '2024', 'that', 'has', 'shown', 'the', 'ability', 'to', 'hit', 'in', 'game', 'cons…', '2024', 'OF/1B', 'Offensive', 'traits', 'that', 'college', 'coaches', 'will', 'drool', 'over', '.', '6-foot-5', ',', 'with', 'smooth', 'patterns', 'an', 'adv…', '_Hatcher_PBR', '2023', 'Dillon', 'Moquin', '-', 'OF', '_Uncommitted', '6', '’', '1', '”', '185', 'lbs', '.', 'Moquin', 'flashed', 'some', 'electric', 'bat', 'speed', 'at', '99', 'mph', 'EV', '.', 'Ability…', 'Having', 'traveled', 'extensively', 'internationally', ',', 'I', 'have', 'seen', 'what', 'happens', 'when', 'countries', 'do', \"n't\", 'invest', 'in', 'infrastructure', '.', 'Excited…', 'To', 'anyone', 'who', 'bought', '$', 'blnk', ',', '$', 'wkhs', ',', '$', 'nkla', ',', 'or', 'any', 'other', 'stupid', 'ev', 'name', 'today', '“', 'because', 'infrastructure', 'bill', '”', 'Thanks', 'for', 'pl…', 'Roads', '.', 'Bridges', '.', 'Rail', '.', 'Broadband', '.', 'Removing', 'Lead', 'Water', 'Pipes', '.', 'EV', 'Charging', 'Stations', '.', 'Mass', 'Transit', '.', 'Some', 'of', 'the', 'largest', 'inv…', '_ev', 'Autopilot', 'is', 'standard', 'homie', '.', 'EV', 'charging', 'to', 'receive', '$', '7.5', 'billion', 'in', 'Bipartisan', 'Infrastructure', 'Deal', 'White', 'House', 'by', '_svcs', '$', 'HPIL', '$', '.0065', 'the', 'DD', 'here', 'is', 'insane', '!', 'Large', 'buyback', '8/17-9/17', ',', 'Apogee', 'D7', 'EV', '(', 'power', 'train', 'charges', 'battery', 'th…', '75', 'electric', 'miles', '.', 'That', \"'s\", 'a', 'bit', 'silly', 'for', 'an', 'EV', 'vehi…', 'Got', 'competencies', '?', 'Shoutout', 'to', 'for', 'dedication', 'to', 'ReThinkingHighSchool', 'to', 'deliver', 'rigorous', 'learning', 'experience…', 'Verano', 'and', 'AyR', 'wellness', 'and', 'Columbia', 'are', '3', 'very', 'undervalued', ',', 'quality', 'names', '.', 'Price', 'to', 'sales', 'and', 'EV', '/', 'Eb…', '_Hatcher_PBR', '2024', 'Jayden', 'Harriel', '-', '3B', '_Uncommitted', '6', '’', '1', '”', '210', 'lbs', '.', 'Physical', '2024', 'that', 'has', 'shown', 'the', 'ability', 'to', 'hit', 'in', 'game', 'cons…', 'Roads', '.', 'Bridges', '.', 'Rail', '.', 'Broadband', '.', 'Removing', 'Lead', 'Water', 'Pipes', '.', 'EV', 'Charging', 'Stations', '.', 'Mass', 'Transit', '.', 'Some', 'of', 'the', 'largest', 'inv…', 'Austin', 'continues', 'to', 'roll', 'out', 'EV', 'infrastructure', '.', 'All', 'the', 'new', 'fast', 'chargers', 'are', 'now', 'open', 'near', 'Downtown', '.', 'St…', 'Roads', '.', 'Bridges', '.', 'Rail', '.', 'Broadband', '.', 'Removing', 'Lead', 'Water', 'Pipes', '.', 'EV', 'Charging', 'Stations', '.', 'Mass', 'Transit', '.', 'Some', 'of', 'the', 'largest', 'inv…', 'It', '’', 's', 'an', 'EV', 'can', '’', 't', 'hate', 'to', 'much', 'The', 'Bipartisan', 'Infrastructure', 'Deal', 'is', 'the', 'first-ever', 'national', 'investment', 'in', 'electric', 'vehicle', '(', 'EV', ')', 'charging', 'infrastructure.…', 'I', 'like', 'that', '!', '“', 'In', 'an', 'ev', 'every', 'road', 'is', 'like', 'a', 'rollercoaster', '!', '”', '🎢', '😂', '_Hatcher_PBR', '2024', 'Jayden', 'Harriel', '-', '3B', '_Uncommitted', '6', '’', '1', '”', '210', 'lbs', '.', 'Physical', '2024', 'that', 'has', 'shown', 'the', 'ability', 'to', 'hit', 'in', 'game', 'cons…', 'That', '‘', 's', 'FUD', '.', '2019', 'Musk', 'said', 'almost', 'their', 'entire', 'R', '&', 'amp', ';', 'D', 'budget', 'goes', 'into', 'FSD', 'development', '.', 'Why', 'are', 'you', 'limiting', 'the', 'EV', 'connections', 'to', 'only', 'Tesla', 'vehicles', ',', 'all', 'EV', 'charging', 'stations', 'need', 'to', 'be', 'equipped', 'wit…', '2024', 'Jayden', 'Harriel', '-', '3B', '_Uncommitted', '6', '’', '1', '”', '210', 'lbs', '.', 'Physical', '2024', 'that', 'has', 'shown', 'the', 'ability', 'to', 'hit', 'in', 'game…', 'To', 'anyone', 'who', 'bought', '$', 'blnk', ',', '$', 'wkhs', ',', '$', 'nkla', ',', 'or', 'any', 'other', 'stupid', 'ev', 'name', 'today', '“', 'because', 'infrastructure', 'bill', '”', 'Thanks', 'for', 'pl…', 'Roads', '.', 'Bridges', '.', 'Rail', '.', 'Broadband', '.', 'Removing', 'Lead', 'Water', 'Pipes', '.', 'EV', 'Charging', 'Stations', '.', 'Mass', 'Transit', '.', 'Some', 'of', 'the', 'largest', 'inv…', '2024', 'OF/1B', 'Offensive', 'traits', 'that', 'college', 'coaches', 'will', 'drool', 'over', '.', '6-foot-5', ',', 'with', 'smooth', 'patterns', 'an', 'adv…', '__linhares', 'OV', ',', 'IC', ',', 'EV', ',', 'EV', '...', 'Explore', 'Nashville', 'as', 'CEO', 'of', 'and', 'singer-songwriter', 'take', 'the…', 'Roads', '.', 'Bridges', '.', 'Rail', '.', 'Broadband', '.', 'Removing', 'Lead', 'Water', 'Pipes', '.', 'EV', 'Charging', 'Stations', '.', 'Mass', 'Transit', '.', 'Some', 'of', 'the', 'largest', 'inv…', 'Roads', '.', 'Bridges', '.', 'Rail', '.', 'Broadband', '.', 'Removing', 'Lead', 'Water', 'Pipes', '.', 'EV', 'Charging', 'Stations', '.', 'Mass', 'Transit', '.', 'Some', 'of', 'the', 'largest', 'inv…', 'WE', 'WERE', 'LITERALLY', 'BORN', 'ONTO', 'A', 'PLANET', 'THAT', 'GROWS', 'FOOD', 'HOW', 'DID', 'WE', 'FUCK', 'UP', 'SO', 'BAD', 'THAT', 'I', 'GOT', 'A', 'CREDIT', 'SCORE', 'F', 'On', 'Call', '(', '13.86', '+0.07', ')', 'Says', 'reservations', 'for', 'EV', 'has', \"'far\", 'surpassed', \"'\", 'expectations', 'Has', 'identified', '$', '50', 'mln', 'in', 'eff…', 'Roads', '.', 'Bridges', '.', 'Rail', '.', 'Broadband', '.', 'Removing', 'Lead', 'Water', 'Pipes', '.', 'EV', 'Charging', 'Stations', '.', 'Mass', 'Transit', '.', 'Some', 'of', 'the', 'largest', 'inv…', 'Dansby', 'Swanson', '-', 'Single', 'vs', 'Tylor', 'Megill', 'Braves', 'vs', 'Mets', 'EV', '104.0', '(', 'MPH', ')', 'LA', '13', '(', 'Deg', '.', ')', 'Dist', '231', '(', 'ft.', ')', 'xBA', '.830', '9…', 'How', 'may', 'I', 'serve', 'you', '?', '/th', '/ev', '/danger', '﹆', 'EV€RY', 'T', '!', 'ME', '1', '$', 'LOOK', 'iNT◌', 'Y0UЯ', '3Y3S', '1', 'SEE', 'YO⃠U', \"'RE\", '411', 'I', 'NEED', '𓐄', '𓈒CH0N', '02𓈒', 'ลฟตท', 'To', 'anyone', 'who', 'bought', '$', 'blnk', ',', '$', 'wkhs', ',', '$', 'nkla', ',', 'or', 'any', 'other', 'stupid', 'ev', 'name', 'today', '“', 'because', 'infrastructure', 'bill', '”', 'Thanks', 'for', 'pl…', 'It', 'looks', 'like', 'EV', '’', 's', 'got', 'hit', 'hard', 'in', 'the', 'bipartisan', 'infrastructure', 'bill', '.', '$', 'TSLA']\n",
      "Filterd Sentence: ['Roads', '.', 'Bridges', '.', 'Rail', '.', 'Broadband', '.', 'Removing', 'Lead', 'Water', 'Pipes', '.', 'EV', 'Charging', 'Stations', '.', 'Mass', 'Transit', '.', 'Some', 'largest', 'inv…', 'FDP', '’', 'generate', 'real', 'cash', 'terrible', 'ROIC', '.', 'Using', 'PF', 'FCF', 'Dole', ',', 'CROIC', '10', '%', '-11', '%', 'vs…', 'Roads', '.', 'Bridges', '.', 'Rail', '.', 'Broadband', '.', 'Removing', 'Lead', 'Water', 'Pipes', '.', 'EV', 'Charging', 'Stations', '.', 'Mass', 'Transit', '.', 'Some', 'largest', 'inv…', '_Flawed_King', 'I', '’', 'take', 'Ev', 'Southern', 'Comfort', 'kitchen', 'tell', 'season', 'food', 'No', 'primate', 'wants', 'EV', '!', 'Museveni', 'invested', '40bn', 'kiira', 'Ev', '.', 'With', 'flagship', 'prototype', 'kayoola', 'Ev', '.', 'This', 'week', 'launched', 'awarded', 'Chin…', 'It', 'looks', 'like', 'EV', '’', 'got', 'hit', 'hard', 'bipartisan', 'infrastructure', 'bill', '.', '$', 'TSLA', '.', 'files', 'trademark', 'six', 'new', 'EV', 'pickup', 'SUV', 'names', 'There', 'American', 'company', 'makes', 'best', 'EV', '’', 'Earth', '.', 'They', 'going', 't…', '_Hatcher_PBR', '2023', 'Robert', 'Demetree', '-', 'SS', '_Uncommitted', '6', '’', '0', '”', '185', 'lbs', '.', 'Demetree', '’', 'frame', 'made', 'jump', 'past', 'year', 'adding', 'th…', '_dej2', 'I', '’', 'singing', 'like', 'canary', '😭🤣', '_Hatcher_PBR', '2023', 'Drew', 'Reaves', '-', 'SS', '_Uncommitted', '6', '’', '2', '”', '190', 'lbs', '.', 'Athletic', 'frame', ',', 'Reaves', 'works', 'short', 'ball', 'w/', 'quick', 'hands', 's…', '_Hatcher_PBR', '2024', 'Jayden', 'Harriel', '-', '3B', '_Uncommitted', '6', '’', '1', '”', '210', 'lbs', '.', 'Physical', '2024', 'shown', 'ability', 'hit', 'game', 'cons…', '2024', 'OF/1B', 'Offensive', 'traits', 'college', 'coaches', 'drool', '.', '6-foot-5', ',', 'smooth', 'patterns', 'adv…', '_Hatcher_PBR', '2023', 'Dillon', 'Moquin', '-', 'OF', '_Uncommitted', '6', '’', '1', '”', '185', 'lbs', '.', 'Moquin', 'flashed', 'electric', 'bat', 'speed', '99', 'mph', 'EV', '.', 'Ability…', 'Having', 'traveled', 'extensively', 'internationally', ',', 'I', 'seen', 'happens', 'countries', \"n't\", 'invest', 'infrastructure', '.', 'Excited…', 'To', 'anyone', 'bought', '$', 'blnk', ',', '$', 'wkhs', ',', '$', 'nkla', ',', 'stupid', 'ev', 'name', 'today', '“', 'infrastructure', 'bill', '”', 'Thanks', 'pl…', 'Roads', '.', 'Bridges', '.', 'Rail', '.', 'Broadband', '.', 'Removing', 'Lead', 'Water', 'Pipes', '.', 'EV', 'Charging', 'Stations', '.', 'Mass', 'Transit', '.', 'Some', 'largest', 'inv…', '_ev', 'Autopilot', 'standard', 'homie', '.', 'EV', 'charging', 'receive', '$', '7.5', 'billion', 'Bipartisan', 'Infrastructure', 'Deal', 'White', 'House', '_svcs', '$', 'HPIL', '$', '.0065', 'DD', 'insane', '!', 'Large', 'buyback', '8/17-9/17', ',', 'Apogee', 'D7', 'EV', '(', 'power', 'train', 'charges', 'battery', 'th…', '75', 'electric', 'miles', '.', 'That', \"'s\", 'bit', 'silly', 'EV', 'vehi…', 'Got', 'competencies', '?', 'Shoutout', 'dedication', 'ReThinkingHighSchool', 'deliver', 'rigorous', 'learning', 'experience…', 'Verano', 'AyR', 'wellness', 'Columbia', '3', 'undervalued', ',', 'quality', 'names', '.', 'Price', 'sales', 'EV', '/', 'Eb…', '_Hatcher_PBR', '2024', 'Jayden', 'Harriel', '-', '3B', '_Uncommitted', '6', '’', '1', '”', '210', 'lbs', '.', 'Physical', '2024', 'shown', 'ability', 'hit', 'game', 'cons…', 'Roads', '.', 'Bridges', '.', 'Rail', '.', 'Broadband', '.', 'Removing', 'Lead', 'Water', 'Pipes', '.', 'EV', 'Charging', 'Stations', '.', 'Mass', 'Transit', '.', 'Some', 'largest', 'inv…', 'Austin', 'continues', 'roll', 'EV', 'infrastructure', '.', 'All', 'new', 'fast', 'chargers', 'open', 'near', 'Downtown', '.', 'St…', 'Roads', '.', 'Bridges', '.', 'Rail', '.', 'Broadband', '.', 'Removing', 'Lead', 'Water', 'Pipes', '.', 'EV', 'Charging', 'Stations', '.', 'Mass', 'Transit', '.', 'Some', 'largest', 'inv…', 'It', '’', 'EV', '’', 'hate', 'much', 'The', 'Bipartisan', 'Infrastructure', 'Deal', 'first-ever', 'national', 'investment', 'electric', 'vehicle', '(', 'EV', ')', 'charging', 'infrastructure.…', 'I', 'like', '!', '“', 'In', 'ev', 'every', 'road', 'like', 'rollercoaster', '!', '”', '🎢', '😂', '_Hatcher_PBR', '2024', 'Jayden', 'Harriel', '-', '3B', '_Uncommitted', '6', '’', '1', '”', '210', 'lbs', '.', 'Physical', '2024', 'shown', 'ability', 'hit', 'game', 'cons…', 'That', '‘', 'FUD', '.', '2019', 'Musk', 'said', 'almost', 'entire', 'R', '&', 'amp', ';', 'D', 'budget', 'goes', 'FSD', 'development', '.', 'Why', 'limiting', 'EV', 'connections', 'Tesla', 'vehicles', ',', 'EV', 'charging', 'stations', 'need', 'equipped', 'wit…', '2024', 'Jayden', 'Harriel', '-', '3B', '_Uncommitted', '6', '’', '1', '”', '210', 'lbs', '.', 'Physical', '2024', 'shown', 'ability', 'hit', 'game…', 'To', 'anyone', 'bought', '$', 'blnk', ',', '$', 'wkhs', ',', '$', 'nkla', ',', 'stupid', 'ev', 'name', 'today', '“', 'infrastructure', 'bill', '”', 'Thanks', 'pl…', 'Roads', '.', 'Bridges', '.', 'Rail', '.', 'Broadband', '.', 'Removing', 'Lead', 'Water', 'Pipes', '.', 'EV', 'Charging', 'Stations', '.', 'Mass', 'Transit', '.', 'Some', 'largest', 'inv…', '2024', 'OF/1B', 'Offensive', 'traits', 'college', 'coaches', 'drool', '.', '6-foot-5', ',', 'smooth', 'patterns', 'adv…', '__linhares', 'OV', ',', 'IC', ',', 'EV', ',', 'EV', '...', 'Explore', 'Nashville', 'CEO', 'singer-songwriter', 'take', 'the…', 'Roads', '.', 'Bridges', '.', 'Rail', '.', 'Broadband', '.', 'Removing', 'Lead', 'Water', 'Pipes', '.', 'EV', 'Charging', 'Stations', '.', 'Mass', 'Transit', '.', 'Some', 'largest', 'inv…', 'Roads', '.', 'Bridges', '.', 'Rail', '.', 'Broadband', '.', 'Removing', 'Lead', 'Water', 'Pipes', '.', 'EV', 'Charging', 'Stations', '.', 'Mass', 'Transit', '.', 'Some', 'largest', 'inv…', 'WE', 'WERE', 'LITERALLY', 'BORN', 'ONTO', 'A', 'PLANET', 'THAT', 'GROWS', 'FOOD', 'HOW', 'DID', 'WE', 'FUCK', 'UP', 'SO', 'BAD', 'THAT', 'I', 'GOT', 'A', 'CREDIT', 'SCORE', 'F', 'On', 'Call', '(', '13.86', '+0.07', ')', 'Says', 'reservations', 'EV', \"'far\", 'surpassed', \"'\", 'expectations', 'Has', 'identified', '$', '50', 'mln', 'eff…', 'Roads', '.', 'Bridges', '.', 'Rail', '.', 'Broadband', '.', 'Removing', 'Lead', 'Water', 'Pipes', '.', 'EV', 'Charging', 'Stations', '.', 'Mass', 'Transit', '.', 'Some', 'largest', 'inv…', 'Dansby', 'Swanson', '-', 'Single', 'vs', 'Tylor', 'Megill', 'Braves', 'vs', 'Mets', 'EV', '104.0', '(', 'MPH', ')', 'LA', '13', '(', 'Deg', '.', ')', 'Dist', '231', '(', 'ft.', ')', 'xBA', '.830', '9…', 'How', 'may', 'I', 'serve', '?', '/th', '/ev', '/danger', '﹆', 'EV€RY', 'T', '!', 'ME', '1', '$', 'LOOK', 'iNT◌', 'Y0UЯ', '3Y3S', '1', 'SEE', 'YO⃠U', \"'RE\", '411', 'I', 'NEED', '𓐄', '𓈒CH0N', '02𓈒', 'ลฟตท', 'To', 'anyone', 'bought', '$', 'blnk', ',', '$', 'wkhs', ',', '$', 'nkla', ',', 'stupid', 'ev', 'name', 'today', '“', 'infrastructure', 'bill', '”', 'Thanks', 'pl…', 'It', 'looks', 'like', 'EV', '’', 'got', 'hit', 'hard', 'bipartisan', 'infrastructure', 'bill', '.', '$', 'TSLA']\n"
     ]
    }
   ],
   "source": [
    "# Removing Stopwords\n",
    "filtered_sent=[]\n",
    "for w in tokenized_word:\n",
    "    if w not in stop_words:\n",
    "        filtered_sent.append(w)\n",
    "print(\"Tokenized Sentence:\",tokenized_word)\n",
    "print(\"Filterd Sentence:\",filtered_sent)"
   ]
  },
  {
   "cell_type": "code",
   "execution_count": null,
   "metadata": {},
   "outputs": [],
   "source": []
  },
  {
   "cell_type": "code",
   "execution_count": 40,
   "metadata": {},
   "outputs": [],
   "source": [
    "# Stemming - reduces words to their word root word"
   ]
  },
  {
   "cell_type": "code",
   "execution_count": 41,
   "metadata": {},
   "outputs": [
    {
     "name": "stdout",
     "output_type": "stream",
     "text": [
      "Filtered Sentence: ['Roads', '.', 'Bridges', '.', 'Rail', '.', 'Broadband', '.', 'Removing', 'Lead', 'Water', 'Pipes', '.', 'EV', 'Charging', 'Stations', '.', 'Mass', 'Transit', '.', 'Some', 'largest', 'inv…', 'FDP', '’', 'generate', 'real', 'cash', 'terrible', 'ROIC', '.', 'Using', 'PF', 'FCF', 'Dole', ',', 'CROIC', '10', '%', '-11', '%', 'vs…', 'Roads', '.', 'Bridges', '.', 'Rail', '.', 'Broadband', '.', 'Removing', 'Lead', 'Water', 'Pipes', '.', 'EV', 'Charging', 'Stations', '.', 'Mass', 'Transit', '.', 'Some', 'largest', 'inv…', '_Flawed_King', 'I', '’', 'take', 'Ev', 'Southern', 'Comfort', 'kitchen', 'tell', 'season', 'food', 'No', 'primate', 'wants', 'EV', '!', 'Museveni', 'invested', '40bn', 'kiira', 'Ev', '.', 'With', 'flagship', 'prototype', 'kayoola', 'Ev', '.', 'This', 'week', 'launched', 'awarded', 'Chin…', 'It', 'looks', 'like', 'EV', '’', 'got', 'hit', 'hard', 'bipartisan', 'infrastructure', 'bill', '.', '$', 'TSLA', '.', 'files', 'trademark', 'six', 'new', 'EV', 'pickup', 'SUV', 'names', 'There', 'American', 'company', 'makes', 'best', 'EV', '’', 'Earth', '.', 'They', 'going', 't…', '_Hatcher_PBR', '2023', 'Robert', 'Demetree', '-', 'SS', '_Uncommitted', '6', '’', '0', '”', '185', 'lbs', '.', 'Demetree', '’', 'frame', 'made', 'jump', 'past', 'year', 'adding', 'th…', '_dej2', 'I', '’', 'singing', 'like', 'canary', '😭🤣', '_Hatcher_PBR', '2023', 'Drew', 'Reaves', '-', 'SS', '_Uncommitted', '6', '’', '2', '”', '190', 'lbs', '.', 'Athletic', 'frame', ',', 'Reaves', 'works', 'short', 'ball', 'w/', 'quick', 'hands', 's…', '_Hatcher_PBR', '2024', 'Jayden', 'Harriel', '-', '3B', '_Uncommitted', '6', '’', '1', '”', '210', 'lbs', '.', 'Physical', '2024', 'shown', 'ability', 'hit', 'game', 'cons…', '2024', 'OF/1B', 'Offensive', 'traits', 'college', 'coaches', 'drool', '.', '6-foot-5', ',', 'smooth', 'patterns', 'adv…', '_Hatcher_PBR', '2023', 'Dillon', 'Moquin', '-', 'OF', '_Uncommitted', '6', '’', '1', '”', '185', 'lbs', '.', 'Moquin', 'flashed', 'electric', 'bat', 'speed', '99', 'mph', 'EV', '.', 'Ability…', 'Having', 'traveled', 'extensively', 'internationally', ',', 'I', 'seen', 'happens', 'countries', \"n't\", 'invest', 'infrastructure', '.', 'Excited…', 'To', 'anyone', 'bought', '$', 'blnk', ',', '$', 'wkhs', ',', '$', 'nkla', ',', 'stupid', 'ev', 'name', 'today', '“', 'infrastructure', 'bill', '”', 'Thanks', 'pl…', 'Roads', '.', 'Bridges', '.', 'Rail', '.', 'Broadband', '.', 'Removing', 'Lead', 'Water', 'Pipes', '.', 'EV', 'Charging', 'Stations', '.', 'Mass', 'Transit', '.', 'Some', 'largest', 'inv…', '_ev', 'Autopilot', 'standard', 'homie', '.', 'EV', 'charging', 'receive', '$', '7.5', 'billion', 'Bipartisan', 'Infrastructure', 'Deal', 'White', 'House', '_svcs', '$', 'HPIL', '$', '.0065', 'DD', 'insane', '!', 'Large', 'buyback', '8/17-9/17', ',', 'Apogee', 'D7', 'EV', '(', 'power', 'train', 'charges', 'battery', 'th…', '75', 'electric', 'miles', '.', 'That', \"'s\", 'bit', 'silly', 'EV', 'vehi…', 'Got', 'competencies', '?', 'Shoutout', 'dedication', 'ReThinkingHighSchool', 'deliver', 'rigorous', 'learning', 'experience…', 'Verano', 'AyR', 'wellness', 'Columbia', '3', 'undervalued', ',', 'quality', 'names', '.', 'Price', 'sales', 'EV', '/', 'Eb…', '_Hatcher_PBR', '2024', 'Jayden', 'Harriel', '-', '3B', '_Uncommitted', '6', '’', '1', '”', '210', 'lbs', '.', 'Physical', '2024', 'shown', 'ability', 'hit', 'game', 'cons…', 'Roads', '.', 'Bridges', '.', 'Rail', '.', 'Broadband', '.', 'Removing', 'Lead', 'Water', 'Pipes', '.', 'EV', 'Charging', 'Stations', '.', 'Mass', 'Transit', '.', 'Some', 'largest', 'inv…', 'Austin', 'continues', 'roll', 'EV', 'infrastructure', '.', 'All', 'new', 'fast', 'chargers', 'open', 'near', 'Downtown', '.', 'St…', 'Roads', '.', 'Bridges', '.', 'Rail', '.', 'Broadband', '.', 'Removing', 'Lead', 'Water', 'Pipes', '.', 'EV', 'Charging', 'Stations', '.', 'Mass', 'Transit', '.', 'Some', 'largest', 'inv…', 'It', '’', 'EV', '’', 'hate', 'much', 'The', 'Bipartisan', 'Infrastructure', 'Deal', 'first-ever', 'national', 'investment', 'electric', 'vehicle', '(', 'EV', ')', 'charging', 'infrastructure.…', 'I', 'like', '!', '“', 'In', 'ev', 'every', 'road', 'like', 'rollercoaster', '!', '”', '🎢', '😂', '_Hatcher_PBR', '2024', 'Jayden', 'Harriel', '-', '3B', '_Uncommitted', '6', '’', '1', '”', '210', 'lbs', '.', 'Physical', '2024', 'shown', 'ability', 'hit', 'game', 'cons…', 'That', '‘', 'FUD', '.', '2019', 'Musk', 'said', 'almost', 'entire', 'R', '&', 'amp', ';', 'D', 'budget', 'goes', 'FSD', 'development', '.', 'Why', 'limiting', 'EV', 'connections', 'Tesla', 'vehicles', ',', 'EV', 'charging', 'stations', 'need', 'equipped', 'wit…', '2024', 'Jayden', 'Harriel', '-', '3B', '_Uncommitted', '6', '’', '1', '”', '210', 'lbs', '.', 'Physical', '2024', 'shown', 'ability', 'hit', 'game…', 'To', 'anyone', 'bought', '$', 'blnk', ',', '$', 'wkhs', ',', '$', 'nkla', ',', 'stupid', 'ev', 'name', 'today', '“', 'infrastructure', 'bill', '”', 'Thanks', 'pl…', 'Roads', '.', 'Bridges', '.', 'Rail', '.', 'Broadband', '.', 'Removing', 'Lead', 'Water', 'Pipes', '.', 'EV', 'Charging', 'Stations', '.', 'Mass', 'Transit', '.', 'Some', 'largest', 'inv…', '2024', 'OF/1B', 'Offensive', 'traits', 'college', 'coaches', 'drool', '.', '6-foot-5', ',', 'smooth', 'patterns', 'adv…', '__linhares', 'OV', ',', 'IC', ',', 'EV', ',', 'EV', '...', 'Explore', 'Nashville', 'CEO', 'singer-songwriter', 'take', 'the…', 'Roads', '.', 'Bridges', '.', 'Rail', '.', 'Broadband', '.', 'Removing', 'Lead', 'Water', 'Pipes', '.', 'EV', 'Charging', 'Stations', '.', 'Mass', 'Transit', '.', 'Some', 'largest', 'inv…', 'Roads', '.', 'Bridges', '.', 'Rail', '.', 'Broadband', '.', 'Removing', 'Lead', 'Water', 'Pipes', '.', 'EV', 'Charging', 'Stations', '.', 'Mass', 'Transit', '.', 'Some', 'largest', 'inv…', 'WE', 'WERE', 'LITERALLY', 'BORN', 'ONTO', 'A', 'PLANET', 'THAT', 'GROWS', 'FOOD', 'HOW', 'DID', 'WE', 'FUCK', 'UP', 'SO', 'BAD', 'THAT', 'I', 'GOT', 'A', 'CREDIT', 'SCORE', 'F', 'On', 'Call', '(', '13.86', '+0.07', ')', 'Says', 'reservations', 'EV', \"'far\", 'surpassed', \"'\", 'expectations', 'Has', 'identified', '$', '50', 'mln', 'eff…', 'Roads', '.', 'Bridges', '.', 'Rail', '.', 'Broadband', '.', 'Removing', 'Lead', 'Water', 'Pipes', '.', 'EV', 'Charging', 'Stations', '.', 'Mass', 'Transit', '.', 'Some', 'largest', 'inv…', 'Dansby', 'Swanson', '-', 'Single', 'vs', 'Tylor', 'Megill', 'Braves', 'vs', 'Mets', 'EV', '104.0', '(', 'MPH', ')', 'LA', '13', '(', 'Deg', '.', ')', 'Dist', '231', '(', 'ft.', ')', 'xBA', '.830', '9…', 'How', 'may', 'I', 'serve', '?', '/th', '/ev', '/danger', '﹆', 'EV€RY', 'T', '!', 'ME', '1', '$', 'LOOK', 'iNT◌', 'Y0UЯ', '3Y3S', '1', 'SEE', 'YO⃠U', \"'RE\", '411', 'I', 'NEED', '𓐄', '𓈒CH0N', '02𓈒', 'ลฟตท', 'To', 'anyone', 'bought', '$', 'blnk', ',', '$', 'wkhs', ',', '$', 'nkla', ',', 'stupid', 'ev', 'name', 'today', '“', 'infrastructure', 'bill', '”', 'Thanks', 'pl…', 'It', 'looks', 'like', 'EV', '’', 'got', 'hit', 'hard', 'bipartisan', 'infrastructure', 'bill', '.', '$', 'TSLA']\n",
      "Stemmed Sentence: ['road', '.', 'bridg', '.', 'rail', '.', 'broadband', '.', 'remov', 'lead', 'water', 'pipe', '.', 'EV', 'charg', 'station', '.', 'mass', 'transit', '.', 'some', 'largest', 'inv…', 'fdp', '’', 'gener', 'real', 'cash', 'terribl', 'roic', '.', 'use', 'PF', 'fcf', 'dole', ',', 'croic', '10', '%', '-11', '%', 'vs…', 'road', '.', 'bridg', '.', 'rail', '.', 'broadband', '.', 'remov', 'lead', 'water', 'pipe', '.', 'EV', 'charg', 'station', '.', 'mass', 'transit', '.', 'some', 'largest', 'inv…', '_flawed_k', 'I', '’', 'take', 'Ev', 'southern', 'comfort', 'kitchen', 'tell', 'season', 'food', 'No', 'primat', 'want', 'EV', '!', 'museveni', 'invest', '40bn', 'kiira', 'Ev', '.', 'with', 'flagship', 'prototyp', 'kayoola', 'Ev', '.', 'thi', 'week', 'launch', 'award', 'chin…', 'It', 'look', 'like', 'EV', '’', 'got', 'hit', 'hard', 'bipartisan', 'infrastructur', 'bill', '.', '$', 'tsla', '.', 'file', 'trademark', 'six', 'new', 'EV', 'pickup', 'suv', 'name', 'there', 'american', 'compani', 'make', 'best', 'EV', '’', 'earth', '.', 'they', 'go', 't…', '_hatcher_pbr', '2023', 'robert', 'demetre', '-', 'SS', '_uncommit', '6', '’', '0', '”', '185', 'lb', '.', 'demetre', '’', 'frame', 'made', 'jump', 'past', 'year', 'ad', 'th…', '_dej2', 'I', '’', 'sing', 'like', 'canari', '😭🤣', '_hatcher_pbr', '2023', 'drew', 'reav', '-', 'SS', '_uncommit', '6', '’', '2', '”', '190', 'lb', '.', 'athlet', 'frame', ',', 'reav', 'work', 'short', 'ball', 'w/', 'quick', 'hand', 's…', '_hatcher_pbr', '2024', 'jayden', 'harriel', '-', '3B', '_uncommit', '6', '’', '1', '”', '210', 'lb', '.', 'physic', '2024', 'shown', 'abil', 'hit', 'game', 'cons…', '2024', 'of/1b', 'offens', 'trait', 'colleg', 'coach', 'drool', '.', '6-foot-5', ',', 'smooth', 'pattern', 'adv…', '_hatcher_pbr', '2023', 'dillon', 'moquin', '-', 'OF', '_uncommit', '6', '’', '1', '”', '185', 'lb', '.', 'moquin', 'flash', 'electr', 'bat', 'speed', '99', 'mph', 'EV', '.', 'ability…', 'have', 'travel', 'extens', 'intern', ',', 'I', 'seen', 'happen', 'countri', \"n't\", 'invest', 'infrastructur', '.', 'excited…', 'To', 'anyon', 'bought', '$', 'blnk', ',', '$', 'wkh', ',', '$', 'nkla', ',', 'stupid', 'ev', 'name', 'today', '“', 'infrastructur', 'bill', '”', 'thank', 'pl…', 'road', '.', 'bridg', '.', 'rail', '.', 'broadband', '.', 'remov', 'lead', 'water', 'pipe', '.', 'EV', 'charg', 'station', '.', 'mass', 'transit', '.', 'some', 'largest', 'inv…', '_ev', 'autopilot', 'standard', 'homi', '.', 'EV', 'charg', 'receiv', '$', '7.5', 'billion', 'bipartisan', 'infrastructur', 'deal', 'white', 'hous', '_svc', '$', 'hpil', '$', '.0065', 'DD', 'insan', '!', 'larg', 'buyback', '8/17-9/17', ',', 'apoge', 'D7', 'EV', '(', 'power', 'train', 'charg', 'batteri', 'th…', '75', 'electr', 'mile', '.', 'that', \"'s\", 'bit', 'silli', 'EV', 'vehi…', 'got', 'compet', '?', 'shoutout', 'dedic', 'rethinkinghighschool', 'deliv', 'rigor', 'learn', 'experience…', 'verano', 'ayr', 'well', 'columbia', '3', 'undervalu', ',', 'qualiti', 'name', '.', 'price', 'sale', 'EV', '/', 'eb…', '_hatcher_pbr', '2024', 'jayden', 'harriel', '-', '3B', '_uncommit', '6', '’', '1', '”', '210', 'lb', '.', 'physic', '2024', 'shown', 'abil', 'hit', 'game', 'cons…', 'road', '.', 'bridg', '.', 'rail', '.', 'broadband', '.', 'remov', 'lead', 'water', 'pipe', '.', 'EV', 'charg', 'station', '.', 'mass', 'transit', '.', 'some', 'largest', 'inv…', 'austin', 'continu', 'roll', 'EV', 'infrastructur', '.', 'all', 'new', 'fast', 'charger', 'open', 'near', 'downtown', '.', 'st…', 'road', '.', 'bridg', '.', 'rail', '.', 'broadband', '.', 'remov', 'lead', 'water', 'pipe', '.', 'EV', 'charg', 'station', '.', 'mass', 'transit', '.', 'some', 'largest', 'inv…', 'It', '’', 'EV', '’', 'hate', 'much', 'the', 'bipartisan', 'infrastructur', 'deal', 'first-ev', 'nation', 'invest', 'electr', 'vehicl', '(', 'EV', ')', 'charg', 'infrastructure.…', 'I', 'like', '!', '“', 'In', 'ev', 'everi', 'road', 'like', 'rollercoast', '!', '”', '🎢', '😂', '_hatcher_pbr', '2024', 'jayden', 'harriel', '-', '3B', '_uncommit', '6', '’', '1', '”', '210', 'lb', '.', 'physic', '2024', 'shown', 'abil', 'hit', 'game', 'cons…', 'that', '‘', 'fud', '.', '2019', 'musk', 'said', 'almost', 'entir', 'R', '&', 'amp', ';', 'D', 'budget', 'goe', 'fsd', 'develop', '.', 'whi', 'limit', 'EV', 'connect', 'tesla', 'vehicl', ',', 'EV', 'charg', 'station', 'need', 'equip', 'wit…', '2024', 'jayden', 'harriel', '-', '3B', '_uncommit', '6', '’', '1', '”', '210', 'lb', '.', 'physic', '2024', 'shown', 'abil', 'hit', 'game…', 'To', 'anyon', 'bought', '$', 'blnk', ',', '$', 'wkh', ',', '$', 'nkla', ',', 'stupid', 'ev', 'name', 'today', '“', 'infrastructur', 'bill', '”', 'thank', 'pl…', 'road', '.', 'bridg', '.', 'rail', '.', 'broadband', '.', 'remov', 'lead', 'water', 'pipe', '.', 'EV', 'charg', 'station', '.', 'mass', 'transit', '.', 'some', 'largest', 'inv…', '2024', 'of/1b', 'offens', 'trait', 'colleg', 'coach', 'drool', '.', '6-foot-5', ',', 'smooth', 'pattern', 'adv…', '__linhar', 'OV', ',', 'IC', ',', 'EV', ',', 'EV', '...', 'explor', 'nashvil', 'ceo', 'singer-songwrit', 'take', 'the…', 'road', '.', 'bridg', '.', 'rail', '.', 'broadband', '.', 'remov', 'lead', 'water', 'pipe', '.', 'EV', 'charg', 'station', '.', 'mass', 'transit', '.', 'some', 'largest', 'inv…', 'road', '.', 'bridg', '.', 'rail', '.', 'broadband', '.', 'remov', 'lead', 'water', 'pipe', '.', 'EV', 'charg', 'station', '.', 'mass', 'transit', '.', 'some', 'largest', 'inv…', 'WE', 'were', 'liter', 'born', 'onto', 'A', 'planet', 'that', 'grow', 'food', 'how', 'did', 'WE', 'fuck', 'UP', 'SO', 'bad', 'that', 'I', 'got', 'A', 'credit', 'score', 'F', 'On', 'call', '(', '13.86', '+0.07', ')', 'say', 'reserv', 'EV', \"'far\", 'surpass', \"'\", 'expect', 'ha', 'identifi', '$', '50', 'mln', 'eff…', 'road', '.', 'bridg', '.', 'rail', '.', 'broadband', '.', 'remov', 'lead', 'water', 'pipe', '.', 'EV', 'charg', 'station', '.', 'mass', 'transit', '.', 'some', 'largest', 'inv…', 'dansbi', 'swanson', '-', 'singl', 'vs', 'tylor', 'megil', 'brave', 'vs', 'met', 'EV', '104.0', '(', 'mph', ')', 'LA', '13', '(', 'deg', '.', ')', 'dist', '231', '(', 'ft.', ')', 'xba', '.830', '9…', 'how', 'may', 'I', 'serv', '?', '/th', '/ev', '/danger', '﹆', 'ev€ri', 'T', '!', 'ME', '1', '$', 'look', 'int◌', 'y0uя', '3y3', '1', 'see', 'yo⃠u', \"'re\", '411', 'I', 'need', '𓐄', '𓈒ch0n', '02𓈒', 'ลฟตท', 'To', 'anyon', 'bought', '$', 'blnk', ',', '$', 'wkh', ',', '$', 'nkla', ',', 'stupid', 'ev', 'name', 'today', '“', 'infrastructur', 'bill', '”', 'thank', 'pl…', 'It', 'look', 'like', 'EV', '’', 'got', 'hit', 'hard', 'bipartisan', 'infrastructur', 'bill', '.', '$', 'tsla']\n"
     ]
    }
   ],
   "source": [
    "# Stemming\n",
    "from nltk.stem import PorterStemmer\n",
    "from nltk.tokenize import sent_tokenize, word_tokenize\n",
    "\n",
    "ps = PorterStemmer()\n",
    "\n",
    "stemmed_words=[]\n",
    "for w in filtered_sent:\n",
    "    stemmed_words.append(ps.stem(w))\n",
    "\n",
    "print(\"Filtered Sentence:\",filtered_sent)\n",
    "print(\"Stemmed Sentence:\",stemmed_words)"
   ]
  },
  {
   "cell_type": "code",
   "execution_count": null,
   "metadata": {},
   "outputs": [],
   "source": []
  },
  {
   "cell_type": "code",
   "execution_count": 42,
   "metadata": {},
   "outputs": [],
   "source": [
    "#Lemmatization - reduces words to their base word"
   ]
  },
  {
   "cell_type": "code",
   "execution_count": 43,
   "metadata": {},
   "outputs": [],
   "source": [
    "# from nltk.stem.wordnet import WordNetLemmatizer\n",
    "# lem = WordNetLemmatizer()\n",
    "\n",
    "# from nltk.stem.porter import PorterStemmer\n",
    "# stem = PorterStemmer()\n",
    "\n",
    "# word = \"flying\"\n",
    "# print(\"Lemmatized Word:\",lem.lemmatize(word,\"v\"))\n",
    "# print(\"Stemmed Word:\",stem.stem(word))"
   ]
  },
  {
   "cell_type": "code",
   "execution_count": null,
   "metadata": {},
   "outputs": [],
   "source": []
  },
  {
   "cell_type": "code",
   "execution_count": null,
   "metadata": {},
   "outputs": [],
   "source": []
  },
  {
   "cell_type": "code",
   "execution_count": 44,
   "metadata": {},
   "outputs": [],
   "source": [
    "# Sentiment analysis"
   ]
  },
  {
   "cell_type": "code",
   "execution_count": 45,
   "metadata": {},
   "outputs": [
    {
     "ename": "AttributeError",
     "evalue": "'str' object has no attribute 'Sentiment'",
     "output_type": "error",
     "traceback": [
      "\u001b[1;31m---------------------------------------------------------------------------\u001b[0m",
      "\u001b[1;31mAttributeError\u001b[0m                            Traceback (most recent call last)",
      "\u001b[1;32m<ipython-input-45-2bccc6088e0e>\u001b[0m in \u001b[0;36m<module>\u001b[1;34m\u001b[0m\n\u001b[1;32m----> 1\u001b[1;33m \u001b[0mtext\u001b[0m\u001b[1;33m.\u001b[0m\u001b[0mSentiment\u001b[0m\u001b[1;33m.\u001b[0m\u001b[0mvalue_counts\u001b[0m\u001b[1;33m(\u001b[0m\u001b[1;33m)\u001b[0m\u001b[1;33m\u001b[0m\u001b[1;33m\u001b[0m\u001b[0m\n\u001b[0m",
      "\u001b[1;31mAttributeError\u001b[0m: 'str' object has no attribute 'Sentiment'"
     ]
    }
   ],
   "source": [
    "text.Sentiment.value_counts()"
   ]
  },
  {
   "cell_type": "code",
   "execution_count": null,
   "metadata": {},
   "outputs": [],
   "source": []
  },
  {
   "cell_type": "code",
   "execution_count": null,
   "metadata": {},
   "outputs": [],
   "source": []
  },
  {
   "cell_type": "code",
   "execution_count": null,
   "metadata": {},
   "outputs": [],
   "source": []
  }
 ],
 "metadata": {
  "kernelspec": {
   "display_name": "Python 3",
   "language": "python",
   "name": "python3"
  },
  "language_info": {
   "codemirror_mode": {
    "name": "ipython",
    "version": 3
   },
   "file_extension": ".py",
   "mimetype": "text/x-python",
   "name": "python",
   "nbconvert_exporter": "python",
   "pygments_lexer": "ipython3",
   "version": "3.8.5"
  }
 },
 "nbformat": 4,
 "nbformat_minor": 5
}
